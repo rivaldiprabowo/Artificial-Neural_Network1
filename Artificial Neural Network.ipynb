{
 "cells": [
  {
   "cell_type": "code",
   "execution_count": 141,
   "metadata": {
    "ExecuteTime": {
     "end_time": "2022-04-05T18:29:54.461582Z",
     "start_time": "2022-04-05T18:29:54.456595Z"
    }
   },
   "outputs": [],
   "source": [
    "# Import Library\n",
    "import pandas as pd\n",
    "import numpy as np\n",
    "import seaborn as sns\n",
    "import matplotlib.pyplot as plt\n",
    "from sklearn.compose import ColumnTransformer\n",
    "from sklearn.model_selection import train_test_split\n",
    "from sklearn.preprocessing import RobustScaler, StandardScaler, LabelEncoder\n",
    "import category_encoders as ce\n",
    "from sklearn.pipeline import Pipeline\n",
    "from sklearn.metrics import accuracy_score, confusion_matrix, classification_report\n",
    "import tensorflow as tf"
   ]
  },
  {
   "cell_type": "code",
   "execution_count": 47,
   "metadata": {
    "ExecuteTime": {
     "end_time": "2022-04-05T17:35:34.417750Z",
     "start_time": "2022-04-05T17:35:34.409771Z"
    }
   },
   "outputs": [
    {
     "data": {
      "text/plain": [
       "'2.8.0'"
      ]
     },
     "execution_count": 47,
     "metadata": {},
     "output_type": "execute_result"
    }
   ],
   "source": [
    "tf.__version__"
   ]
  },
  {
   "cell_type": "markdown",
   "metadata": {},
   "source": [
    "# Data"
   ]
  },
  {
   "cell_type": "code",
   "execution_count": 48,
   "metadata": {
    "ExecuteTime": {
     "end_time": "2022-04-05T17:35:35.488327Z",
     "start_time": "2022-04-05T17:35:35.403732Z"
    }
   },
   "outputs": [
    {
     "data": {
      "text/html": [
       "<div>\n",
       "<style scoped>\n",
       "    .dataframe tbody tr th:only-of-type {\n",
       "        vertical-align: middle;\n",
       "    }\n",
       "\n",
       "    .dataframe tbody tr th {\n",
       "        vertical-align: top;\n",
       "    }\n",
       "\n",
       "    .dataframe thead th {\n",
       "        text-align: right;\n",
       "    }\n",
       "</style>\n",
       "<table border=\"1\" class=\"dataframe\">\n",
       "  <thead>\n",
       "    <tr style=\"text-align: right;\">\n",
       "      <th></th>\n",
       "      <th>RowNumber</th>\n",
       "      <th>CustomerId</th>\n",
       "      <th>Surname</th>\n",
       "      <th>CreditScore</th>\n",
       "      <th>Geography</th>\n",
       "      <th>Gender</th>\n",
       "      <th>Age</th>\n",
       "      <th>Tenure</th>\n",
       "      <th>Balance</th>\n",
       "      <th>NumOfProducts</th>\n",
       "      <th>HasCrCard</th>\n",
       "      <th>IsActiveMember</th>\n",
       "      <th>EstimatedSalary</th>\n",
       "      <th>Exited</th>\n",
       "    </tr>\n",
       "  </thead>\n",
       "  <tbody>\n",
       "    <tr>\n",
       "      <th>0</th>\n",
       "      <td>1</td>\n",
       "      <td>15634602</td>\n",
       "      <td>Hargrave</td>\n",
       "      <td>619</td>\n",
       "      <td>France</td>\n",
       "      <td>Female</td>\n",
       "      <td>42</td>\n",
       "      <td>2</td>\n",
       "      <td>0.00</td>\n",
       "      <td>1</td>\n",
       "      <td>1</td>\n",
       "      <td>1</td>\n",
       "      <td>101348.88</td>\n",
       "      <td>1</td>\n",
       "    </tr>\n",
       "    <tr>\n",
       "      <th>1</th>\n",
       "      <td>2</td>\n",
       "      <td>15647311</td>\n",
       "      <td>Hill</td>\n",
       "      <td>608</td>\n",
       "      <td>Spain</td>\n",
       "      <td>Female</td>\n",
       "      <td>41</td>\n",
       "      <td>1</td>\n",
       "      <td>83807.86</td>\n",
       "      <td>1</td>\n",
       "      <td>0</td>\n",
       "      <td>1</td>\n",
       "      <td>112542.58</td>\n",
       "      <td>0</td>\n",
       "    </tr>\n",
       "    <tr>\n",
       "      <th>2</th>\n",
       "      <td>3</td>\n",
       "      <td>15619304</td>\n",
       "      <td>Onio</td>\n",
       "      <td>502</td>\n",
       "      <td>France</td>\n",
       "      <td>Female</td>\n",
       "      <td>42</td>\n",
       "      <td>8</td>\n",
       "      <td>159660.80</td>\n",
       "      <td>3</td>\n",
       "      <td>1</td>\n",
       "      <td>0</td>\n",
       "      <td>113931.57</td>\n",
       "      <td>1</td>\n",
       "    </tr>\n",
       "    <tr>\n",
       "      <th>3</th>\n",
       "      <td>4</td>\n",
       "      <td>15701354</td>\n",
       "      <td>Boni</td>\n",
       "      <td>699</td>\n",
       "      <td>France</td>\n",
       "      <td>Female</td>\n",
       "      <td>39</td>\n",
       "      <td>1</td>\n",
       "      <td>0.00</td>\n",
       "      <td>2</td>\n",
       "      <td>0</td>\n",
       "      <td>0</td>\n",
       "      <td>93826.63</td>\n",
       "      <td>0</td>\n",
       "    </tr>\n",
       "    <tr>\n",
       "      <th>4</th>\n",
       "      <td>5</td>\n",
       "      <td>15737888</td>\n",
       "      <td>Mitchell</td>\n",
       "      <td>850</td>\n",
       "      <td>Spain</td>\n",
       "      <td>Female</td>\n",
       "      <td>43</td>\n",
       "      <td>2</td>\n",
       "      <td>125510.82</td>\n",
       "      <td>1</td>\n",
       "      <td>1</td>\n",
       "      <td>1</td>\n",
       "      <td>79084.10</td>\n",
       "      <td>0</td>\n",
       "    </tr>\n",
       "    <tr>\n",
       "      <th>...</th>\n",
       "      <td>...</td>\n",
       "      <td>...</td>\n",
       "      <td>...</td>\n",
       "      <td>...</td>\n",
       "      <td>...</td>\n",
       "      <td>...</td>\n",
       "      <td>...</td>\n",
       "      <td>...</td>\n",
       "      <td>...</td>\n",
       "      <td>...</td>\n",
       "      <td>...</td>\n",
       "      <td>...</td>\n",
       "      <td>...</td>\n",
       "      <td>...</td>\n",
       "    </tr>\n",
       "    <tr>\n",
       "      <th>9995</th>\n",
       "      <td>9996</td>\n",
       "      <td>15606229</td>\n",
       "      <td>Obijiaku</td>\n",
       "      <td>771</td>\n",
       "      <td>France</td>\n",
       "      <td>Male</td>\n",
       "      <td>39</td>\n",
       "      <td>5</td>\n",
       "      <td>0.00</td>\n",
       "      <td>2</td>\n",
       "      <td>1</td>\n",
       "      <td>0</td>\n",
       "      <td>96270.64</td>\n",
       "      <td>0</td>\n",
       "    </tr>\n",
       "    <tr>\n",
       "      <th>9996</th>\n",
       "      <td>9997</td>\n",
       "      <td>15569892</td>\n",
       "      <td>Johnstone</td>\n",
       "      <td>516</td>\n",
       "      <td>France</td>\n",
       "      <td>Male</td>\n",
       "      <td>35</td>\n",
       "      <td>10</td>\n",
       "      <td>57369.61</td>\n",
       "      <td>1</td>\n",
       "      <td>1</td>\n",
       "      <td>1</td>\n",
       "      <td>101699.77</td>\n",
       "      <td>0</td>\n",
       "    </tr>\n",
       "    <tr>\n",
       "      <th>9997</th>\n",
       "      <td>9998</td>\n",
       "      <td>15584532</td>\n",
       "      <td>Liu</td>\n",
       "      <td>709</td>\n",
       "      <td>France</td>\n",
       "      <td>Female</td>\n",
       "      <td>36</td>\n",
       "      <td>7</td>\n",
       "      <td>0.00</td>\n",
       "      <td>1</td>\n",
       "      <td>0</td>\n",
       "      <td>1</td>\n",
       "      <td>42085.58</td>\n",
       "      <td>1</td>\n",
       "    </tr>\n",
       "    <tr>\n",
       "      <th>9998</th>\n",
       "      <td>9999</td>\n",
       "      <td>15682355</td>\n",
       "      <td>Sabbatini</td>\n",
       "      <td>772</td>\n",
       "      <td>Germany</td>\n",
       "      <td>Male</td>\n",
       "      <td>42</td>\n",
       "      <td>3</td>\n",
       "      <td>75075.31</td>\n",
       "      <td>2</td>\n",
       "      <td>1</td>\n",
       "      <td>0</td>\n",
       "      <td>92888.52</td>\n",
       "      <td>1</td>\n",
       "    </tr>\n",
       "    <tr>\n",
       "      <th>9999</th>\n",
       "      <td>10000</td>\n",
       "      <td>15628319</td>\n",
       "      <td>Walker</td>\n",
       "      <td>792</td>\n",
       "      <td>France</td>\n",
       "      <td>Female</td>\n",
       "      <td>28</td>\n",
       "      <td>4</td>\n",
       "      <td>130142.79</td>\n",
       "      <td>1</td>\n",
       "      <td>1</td>\n",
       "      <td>0</td>\n",
       "      <td>38190.78</td>\n",
       "      <td>0</td>\n",
       "    </tr>\n",
       "  </tbody>\n",
       "</table>\n",
       "<p>10000 rows × 14 columns</p>\n",
       "</div>"
      ],
      "text/plain": [
       "      RowNumber  CustomerId    Surname  CreditScore Geography  Gender  Age  \\\n",
       "0             1    15634602   Hargrave          619    France  Female   42   \n",
       "1             2    15647311       Hill          608     Spain  Female   41   \n",
       "2             3    15619304       Onio          502    France  Female   42   \n",
       "3             4    15701354       Boni          699    France  Female   39   \n",
       "4             5    15737888   Mitchell          850     Spain  Female   43   \n",
       "...         ...         ...        ...          ...       ...     ...  ...   \n",
       "9995       9996    15606229   Obijiaku          771    France    Male   39   \n",
       "9996       9997    15569892  Johnstone          516    France    Male   35   \n",
       "9997       9998    15584532        Liu          709    France  Female   36   \n",
       "9998       9999    15682355  Sabbatini          772   Germany    Male   42   \n",
       "9999      10000    15628319     Walker          792    France  Female   28   \n",
       "\n",
       "      Tenure    Balance  NumOfProducts  HasCrCard  IsActiveMember  \\\n",
       "0          2       0.00              1          1               1   \n",
       "1          1   83807.86              1          0               1   \n",
       "2          8  159660.80              3          1               0   \n",
       "3          1       0.00              2          0               0   \n",
       "4          2  125510.82              1          1               1   \n",
       "...      ...        ...            ...        ...             ...   \n",
       "9995       5       0.00              2          1               0   \n",
       "9996      10   57369.61              1          1               1   \n",
       "9997       7       0.00              1          0               1   \n",
       "9998       3   75075.31              2          1               0   \n",
       "9999       4  130142.79              1          1               0   \n",
       "\n",
       "      EstimatedSalary  Exited  \n",
       "0           101348.88       1  \n",
       "1           112542.58       0  \n",
       "2           113931.57       1  \n",
       "3            93826.63       0  \n",
       "4            79084.10       0  \n",
       "...               ...     ...  \n",
       "9995         96270.64       0  \n",
       "9996        101699.77       0  \n",
       "9997         42085.58       1  \n",
       "9998         92888.52       1  \n",
       "9999         38190.78       0  \n",
       "\n",
       "[10000 rows x 14 columns]"
      ]
     },
     "execution_count": 48,
     "metadata": {},
     "output_type": "execute_result"
    }
   ],
   "source": [
    "df=pd.read_csv('Churn_Modelling.csv')\n",
    "df"
   ]
  },
  {
   "cell_type": "markdown",
   "metadata": {},
   "source": [
    "# Understanding The Data"
   ]
  },
  {
   "cell_type": "code",
   "execution_count": 49,
   "metadata": {
    "ExecuteTime": {
     "end_time": "2022-04-05T17:35:37.546232Z",
     "start_time": "2022-04-05T17:35:37.480529Z"
    }
   },
   "outputs": [
    {
     "data": {
      "text/html": [
       "<div>\n",
       "<style scoped>\n",
       "    .dataframe tbody tr th:only-of-type {\n",
       "        vertical-align: middle;\n",
       "    }\n",
       "\n",
       "    .dataframe tbody tr th {\n",
       "        vertical-align: top;\n",
       "    }\n",
       "\n",
       "    .dataframe thead th {\n",
       "        text-align: right;\n",
       "    }\n",
       "</style>\n",
       "<table border=\"1\" class=\"dataframe\">\n",
       "  <thead>\n",
       "    <tr style=\"text-align: right;\">\n",
       "      <th></th>\n",
       "      <th>Column Type</th>\n",
       "      <th>NaN Values</th>\n",
       "      <th>N Unique</th>\n",
       "      <th>Unique Value</th>\n",
       "    </tr>\n",
       "  </thead>\n",
       "  <tbody>\n",
       "    <tr>\n",
       "      <th>RowNumber</th>\n",
       "      <td>int64</td>\n",
       "      <td>0</td>\n",
       "      <td>10000</td>\n",
       "      <td>[1, 2, 3, 4, 5, 6, 7, 8, 9, 10, 11, 12, 13, 14...</td>\n",
       "    </tr>\n",
       "    <tr>\n",
       "      <th>CustomerId</th>\n",
       "      <td>int64</td>\n",
       "      <td>0</td>\n",
       "      <td>10000</td>\n",
       "      <td>[15634602, 15647311, 15619304, 15701354, 15737...</td>\n",
       "    </tr>\n",
       "    <tr>\n",
       "      <th>Surname</th>\n",
       "      <td>object</td>\n",
       "      <td>0</td>\n",
       "      <td>2932</td>\n",
       "      <td>[Hargrave, Hill, Onio, Boni, Mitchell, Chu, Ba...</td>\n",
       "    </tr>\n",
       "    <tr>\n",
       "      <th>CreditScore</th>\n",
       "      <td>int64</td>\n",
       "      <td>0</td>\n",
       "      <td>460</td>\n",
       "      <td>[619, 608, 502, 699, 850, 645, 822, 376, 501, ...</td>\n",
       "    </tr>\n",
       "    <tr>\n",
       "      <th>Geography</th>\n",
       "      <td>object</td>\n",
       "      <td>0</td>\n",
       "      <td>3</td>\n",
       "      <td>[France, Spain, Germany]</td>\n",
       "    </tr>\n",
       "    <tr>\n",
       "      <th>Gender</th>\n",
       "      <td>object</td>\n",
       "      <td>0</td>\n",
       "      <td>2</td>\n",
       "      <td>[Female, Male]</td>\n",
       "    </tr>\n",
       "    <tr>\n",
       "      <th>Age</th>\n",
       "      <td>int64</td>\n",
       "      <td>0</td>\n",
       "      <td>70</td>\n",
       "      <td>[42, 41, 39, 43, 44, 50, 29, 27, 31, 24, 34, 2...</td>\n",
       "    </tr>\n",
       "    <tr>\n",
       "      <th>Tenure</th>\n",
       "      <td>int64</td>\n",
       "      <td>0</td>\n",
       "      <td>11</td>\n",
       "      <td>[2, 1, 8, 7, 4, 6, 3, 10, 5, 9, 0]</td>\n",
       "    </tr>\n",
       "    <tr>\n",
       "      <th>Balance</th>\n",
       "      <td>float64</td>\n",
       "      <td>0</td>\n",
       "      <td>6382</td>\n",
       "      <td>[0.0, 83807.86, 159660.8, 125510.82, 113755.78...</td>\n",
       "    </tr>\n",
       "    <tr>\n",
       "      <th>NumOfProducts</th>\n",
       "      <td>int64</td>\n",
       "      <td>0</td>\n",
       "      <td>4</td>\n",
       "      <td>[1, 3, 2, 4]</td>\n",
       "    </tr>\n",
       "    <tr>\n",
       "      <th>HasCrCard</th>\n",
       "      <td>int64</td>\n",
       "      <td>0</td>\n",
       "      <td>2</td>\n",
       "      <td>[1, 0]</td>\n",
       "    </tr>\n",
       "    <tr>\n",
       "      <th>IsActiveMember</th>\n",
       "      <td>int64</td>\n",
       "      <td>0</td>\n",
       "      <td>2</td>\n",
       "      <td>[1, 0]</td>\n",
       "    </tr>\n",
       "    <tr>\n",
       "      <th>EstimatedSalary</th>\n",
       "      <td>float64</td>\n",
       "      <td>0</td>\n",
       "      <td>9999</td>\n",
       "      <td>[101348.88, 112542.58, 113931.57, 93826.63, 79...</td>\n",
       "    </tr>\n",
       "    <tr>\n",
       "      <th>Exited</th>\n",
       "      <td>int64</td>\n",
       "      <td>0</td>\n",
       "      <td>2</td>\n",
       "      <td>[1, 0]</td>\n",
       "    </tr>\n",
       "  </tbody>\n",
       "</table>\n",
       "</div>"
      ],
      "text/plain": [
       "                Column Type  NaN Values  N Unique  \\\n",
       "RowNumber             int64           0     10000   \n",
       "CustomerId            int64           0     10000   \n",
       "Surname              object           0      2932   \n",
       "CreditScore           int64           0       460   \n",
       "Geography            object           0         3   \n",
       "Gender               object           0         2   \n",
       "Age                   int64           0        70   \n",
       "Tenure                int64           0        11   \n",
       "Balance             float64           0      6382   \n",
       "NumOfProducts         int64           0         4   \n",
       "HasCrCard             int64           0         2   \n",
       "IsActiveMember        int64           0         2   \n",
       "EstimatedSalary     float64           0      9999   \n",
       "Exited                int64           0         2   \n",
       "\n",
       "                                                      Unique Value  \n",
       "RowNumber        [1, 2, 3, 4, 5, 6, 7, 8, 9, 10, 11, 12, 13, 14...  \n",
       "CustomerId       [15634602, 15647311, 15619304, 15701354, 15737...  \n",
       "Surname          [Hargrave, Hill, Onio, Boni, Mitchell, Chu, Ba...  \n",
       "CreditScore      [619, 608, 502, 699, 850, 645, 822, 376, 501, ...  \n",
       "Geography                                 [France, Spain, Germany]  \n",
       "Gender                                              [Female, Male]  \n",
       "Age              [42, 41, 39, 43, 44, 50, 29, 27, 31, 24, 34, 2...  \n",
       "Tenure                          [2, 1, 8, 7, 4, 6, 3, 10, 5, 9, 0]  \n",
       "Balance          [0.0, 83807.86, 159660.8, 125510.82, 113755.78...  \n",
       "NumOfProducts                                         [1, 3, 2, 4]  \n",
       "HasCrCard                                                   [1, 0]  \n",
       "IsActiveMember                                              [1, 0]  \n",
       "EstimatedSalary  [101348.88, 112542.58, 113931.57, 93826.63, 79...  \n",
       "Exited                                                      [1, 0]  "
      ]
     },
     "execution_count": 49,
     "metadata": {},
     "output_type": "execute_result"
    }
   ],
   "source": [
    "nuniq=[]\n",
    "isna=[]\n",
    "uniq=[]\n",
    "types=[]\n",
    "\n",
    "for i in df.columns:\n",
    "    nuniq.append(df[i].nunique())\n",
    "    isna.append(df[i].isna().sum())\n",
    "    uniq.append(df[i].unique())\n",
    "    types.append(df[i].dtype)\n",
    "    \n",
    "describe=pd.DataFrame({'Column Type': types, 'NaN Values': isna, 'N Unique': nuniq, 'Unique Value':uniq}, index=df.columns)\n",
    "describe"
   ]
  },
  {
   "cell_type": "markdown",
   "metadata": {},
   "source": [
    "* CustomerId: ID number of the customer\n",
    "* Surname: Name of the customer\n",
    "* CreditScore: Score of the credit\n",
    "* Geography: Country origin of the customer\n",
    "* Gender: Sex\n",
    "* Age: How old the customer is\n",
    "* Tenure: How long the customer become member of this bank\n",
    "* Balance: Amount of money in customer's bank account at the time.\n",
    "* NumOfProducts: The number of product's bank which customer use at the time.\n",
    "* HasCrCard: Is customer has a credit card or not.\n",
    "* IsActiveMember: Is customer is active member (It can be measured differently depend of what parameter are used to measure this, example: is customer using credit card?, is customer using his/her mobile banking?, etc.). 1 mean active, 0 mean inactive.\n",
    "* EstimatedSalary: This isn't the actual salary of the customer, the bank estimate this value by using information from other columns.\n",
    "* Exited: This column contain estimation of customers who are leave the bank (churn) or not. This column used to estimate who will churn in six months ahead. (Leave the bank (1) not leave the bank (0)).\n",
    "\n",
    "Our task is to make segmentation model and tell the bank which of the customer at highest risk to leave the bank."
   ]
  },
  {
   "cell_type": "markdown",
   "metadata": {},
   "source": [
    "# Label Analysis"
   ]
  },
  {
   "cell_type": "code",
   "execution_count": 121,
   "metadata": {
    "ExecuteTime": {
     "end_time": "2022-04-05T18:01:53.130434Z",
     "start_time": "2022-04-05T18:01:53.108494Z"
    }
   },
   "outputs": [
    {
     "data": {
      "text/plain": [
       "0    7963\n",
       "1    2037\n",
       "Name: Exited, dtype: int64"
      ]
     },
     "execution_count": 121,
     "metadata": {},
     "output_type": "execute_result"
    }
   ],
   "source": [
    "df['Exited'].value_counts()"
   ]
  },
  {
   "cell_type": "code",
   "execution_count": 122,
   "metadata": {
    "ExecuteTime": {
     "end_time": "2022-04-05T18:02:13.393404Z",
     "start_time": "2022-04-05T18:02:13.147098Z"
    }
   },
   "outputs": [
    {
     "name": "stderr",
     "output_type": "stream",
     "text": [
      "C:\\Users\\lenovo\\anaconda3\\lib\\site-packages\\seaborn\\_decorators.py:36: FutureWarning: Pass the following variable as a keyword arg: x. From version 0.12, the only valid positional argument will be `data`, and passing other arguments without an explicit keyword will result in an error or misinterpretation.\n",
      "  warnings.warn(\n"
     ]
    },
    {
     "data": {
      "text/plain": [
       "<AxesSubplot:xlabel='Exited', ylabel='count'>"
      ]
     },
     "execution_count": 122,
     "metadata": {},
     "output_type": "execute_result"
    },
    {
     "data": {
      "image/png": "[encoded data removed]",
      "text/plain": [
       "<Figure size 432x288 with 1 Axes>"
      ]
     },
     "metadata": {
      "needs_background": "light"
     },
     "output_type": "display_data"
    }
   ],
   "source": [
    "sns.countplot(df['Exited'])"
   ]
  },
  {
   "cell_type": "markdown",
   "metadata": {},
   "source": [
    "# Artificial Neural Network (ANN) Without Pipeline"
   ]
  },
  {
   "cell_type": "markdown",
   "metadata": {},
   "source": [
    "## Data Pre-Processing"
   ]
  },
  {
   "cell_type": "code",
   "execution_count": 76,
   "metadata": {
    "ExecuteTime": {
     "end_time": "2022-04-05T17:43:37.372393Z",
     "start_time": "2022-04-05T17:43:37.360466Z"
    }
   },
   "outputs": [],
   "source": [
    "y1=df['Exited']\n",
    "x1=df.drop(columns=['CustomerId','RowNumber','Surname','Exited'], axis=1)"
   ]
  },
  {
   "cell_type": "code",
   "execution_count": 77,
   "metadata": {
    "ExecuteTime": {
     "end_time": "2022-04-05T17:43:38.708538Z",
     "start_time": "2022-04-05T17:43:38.677621Z"
    }
   },
   "outputs": [
    {
     "data": {
      "text/html": [
       "<div>\n",
       "<style scoped>\n",
       "    .dataframe tbody tr th:only-of-type {\n",
       "        vertical-align: middle;\n",
       "    }\n",
       "\n",
       "    .dataframe tbody tr th {\n",
       "        vertical-align: top;\n",
       "    }\n",
       "\n",
       "    .dataframe thead th {\n",
       "        text-align: right;\n",
       "    }\n",
       "</style>\n",
       "<table border=\"1\" class=\"dataframe\">\n",
       "  <thead>\n",
       "    <tr style=\"text-align: right;\">\n",
       "      <th></th>\n",
       "      <th>CreditScore</th>\n",
       "      <th>Geography</th>\n",
       "      <th>Gender</th>\n",
       "      <th>Age</th>\n",
       "      <th>Tenure</th>\n",
       "      <th>Balance</th>\n",
       "      <th>NumOfProducts</th>\n",
       "      <th>HasCrCard</th>\n",
       "      <th>IsActiveMember</th>\n",
       "      <th>EstimatedSalary</th>\n",
       "    </tr>\n",
       "  </thead>\n",
       "  <tbody>\n",
       "    <tr>\n",
       "      <th>0</th>\n",
       "      <td>619</td>\n",
       "      <td>France</td>\n",
       "      <td>Female</td>\n",
       "      <td>42</td>\n",
       "      <td>2</td>\n",
       "      <td>0.00</td>\n",
       "      <td>1</td>\n",
       "      <td>1</td>\n",
       "      <td>1</td>\n",
       "      <td>101348.88</td>\n",
       "    </tr>\n",
       "    <tr>\n",
       "      <th>1</th>\n",
       "      <td>608</td>\n",
       "      <td>Spain</td>\n",
       "      <td>Female</td>\n",
       "      <td>41</td>\n",
       "      <td>1</td>\n",
       "      <td>83807.86</td>\n",
       "      <td>1</td>\n",
       "      <td>0</td>\n",
       "      <td>1</td>\n",
       "      <td>112542.58</td>\n",
       "    </tr>\n",
       "    <tr>\n",
       "      <th>2</th>\n",
       "      <td>502</td>\n",
       "      <td>France</td>\n",
       "      <td>Female</td>\n",
       "      <td>42</td>\n",
       "      <td>8</td>\n",
       "      <td>159660.80</td>\n",
       "      <td>3</td>\n",
       "      <td>1</td>\n",
       "      <td>0</td>\n",
       "      <td>113931.57</td>\n",
       "    </tr>\n",
       "    <tr>\n",
       "      <th>3</th>\n",
       "      <td>699</td>\n",
       "      <td>France</td>\n",
       "      <td>Female</td>\n",
       "      <td>39</td>\n",
       "      <td>1</td>\n",
       "      <td>0.00</td>\n",
       "      <td>2</td>\n",
       "      <td>0</td>\n",
       "      <td>0</td>\n",
       "      <td>93826.63</td>\n",
       "    </tr>\n",
       "    <tr>\n",
       "      <th>4</th>\n",
       "      <td>850</td>\n",
       "      <td>Spain</td>\n",
       "      <td>Female</td>\n",
       "      <td>43</td>\n",
       "      <td>2</td>\n",
       "      <td>125510.82</td>\n",
       "      <td>1</td>\n",
       "      <td>1</td>\n",
       "      <td>1</td>\n",
       "      <td>79084.10</td>\n",
       "    </tr>\n",
       "    <tr>\n",
       "      <th>...</th>\n",
       "      <td>...</td>\n",
       "      <td>...</td>\n",
       "      <td>...</td>\n",
       "      <td>...</td>\n",
       "      <td>...</td>\n",
       "      <td>...</td>\n",
       "      <td>...</td>\n",
       "      <td>...</td>\n",
       "      <td>...</td>\n",
       "      <td>...</td>\n",
       "    </tr>\n",
       "    <tr>\n",
       "      <th>9995</th>\n",
       "      <td>771</td>\n",
       "      <td>France</td>\n",
       "      <td>Male</td>\n",
       "      <td>39</td>\n",
       "      <td>5</td>\n",
       "      <td>0.00</td>\n",
       "      <td>2</td>\n",
       "      <td>1</td>\n",
       "      <td>0</td>\n",
       "      <td>96270.64</td>\n",
       "    </tr>\n",
       "    <tr>\n",
       "      <th>9996</th>\n",
       "      <td>516</td>\n",
       "      <td>France</td>\n",
       "      <td>Male</td>\n",
       "      <td>35</td>\n",
       "      <td>10</td>\n",
       "      <td>57369.61</td>\n",
       "      <td>1</td>\n",
       "      <td>1</td>\n",
       "      <td>1</td>\n",
       "      <td>101699.77</td>\n",
       "    </tr>\n",
       "    <tr>\n",
       "      <th>9997</th>\n",
       "      <td>709</td>\n",
       "      <td>France</td>\n",
       "      <td>Female</td>\n",
       "      <td>36</td>\n",
       "      <td>7</td>\n",
       "      <td>0.00</td>\n",
       "      <td>1</td>\n",
       "      <td>0</td>\n",
       "      <td>1</td>\n",
       "      <td>42085.58</td>\n",
       "    </tr>\n",
       "    <tr>\n",
       "      <th>9998</th>\n",
       "      <td>772</td>\n",
       "      <td>Germany</td>\n",
       "      <td>Male</td>\n",
       "      <td>42</td>\n",
       "      <td>3</td>\n",
       "      <td>75075.31</td>\n",
       "      <td>2</td>\n",
       "      <td>1</td>\n",
       "      <td>0</td>\n",
       "      <td>92888.52</td>\n",
       "    </tr>\n",
       "    <tr>\n",
       "      <th>9999</th>\n",
       "      <td>792</td>\n",
       "      <td>France</td>\n",
       "      <td>Female</td>\n",
       "      <td>28</td>\n",
       "      <td>4</td>\n",
       "      <td>130142.79</td>\n",
       "      <td>1</td>\n",
       "      <td>1</td>\n",
       "      <td>0</td>\n",
       "      <td>38190.78</td>\n",
       "    </tr>\n",
       "  </tbody>\n",
       "</table>\n",
       "<p>10000 rows × 10 columns</p>\n",
       "</div>"
      ],
      "text/plain": [
       "      CreditScore Geography  Gender  Age  Tenure    Balance  NumOfProducts  \\\n",
       "0             619    France  Female   42       2       0.00              1   \n",
       "1             608     Spain  Female   41       1   83807.86              1   \n",
       "2             502    France  Female   42       8  159660.80              3   \n",
       "3             699    France  Female   39       1       0.00              2   \n",
       "4             850     Spain  Female   43       2  125510.82              1   \n",
       "...           ...       ...     ...  ...     ...        ...            ...   \n",
       "9995          771    France    Male   39       5       0.00              2   \n",
       "9996          516    France    Male   35      10   57369.61              1   \n",
       "9997          709    France  Female   36       7       0.00              1   \n",
       "9998          772   Germany    Male   42       3   75075.31              2   \n",
       "9999          792    France  Female   28       4  130142.79              1   \n",
       "\n",
       "      HasCrCard  IsActiveMember  EstimatedSalary  \n",
       "0             1               1        101348.88  \n",
       "1             0               1        112542.58  \n",
       "2             1               0        113931.57  \n",
       "3             0               0         93826.63  \n",
       "4             1               1         79084.10  \n",
       "...         ...             ...              ...  \n",
       "9995          1               0         96270.64  \n",
       "9996          1               1        101699.77  \n",
       "9997          0               1         42085.58  \n",
       "9998          1               0         92888.52  \n",
       "9999          1               0         38190.78  \n",
       "\n",
       "[10000 rows x 10 columns]"
      ]
     },
     "execution_count": 77,
     "metadata": {},
     "output_type": "execute_result"
    }
   ],
   "source": [
    "x1"
   ]
  },
  {
   "cell_type": "code",
   "execution_count": 78,
   "metadata": {
    "ExecuteTime": {
     "end_time": "2022-04-05T17:43:40.612489Z",
     "start_time": "2022-04-05T17:43:40.596494Z"
    }
   },
   "outputs": [],
   "source": [
    "#Encode Gender\n",
    "le = LabelEncoder()\n",
    "x1['Gender'] = le.fit_transform(x1['Gender'])"
   ]
  },
  {
   "cell_type": "code",
   "execution_count": 79,
   "metadata": {
    "ExecuteTime": {
     "end_time": "2022-04-05T17:43:41.381308Z",
     "start_time": "2022-04-05T17:43:41.367813Z"
    }
   },
   "outputs": [],
   "source": [
    "#Encode Geography\n",
    "transformer=ColumnTransformer(transformers=[('encoder',ce.OneHotEncoder(),['Geography'])],remainder='passthrough')"
   ]
  },
  {
   "cell_type": "code",
   "execution_count": 82,
   "metadata": {
    "ExecuteTime": {
     "end_time": "2022-04-05T17:43:57.632660Z",
     "start_time": "2022-04-05T17:43:57.593764Z"
    }
   },
   "outputs": [],
   "source": [
    "x1=np.array(transformer.fit_transform(x1))"
   ]
  },
  {
   "cell_type": "code",
   "execution_count": 83,
   "metadata": {
    "ExecuteTime": {
     "end_time": "2022-04-05T17:43:59.129819Z",
     "start_time": "2022-04-05T17:43:59.118848Z"
    }
   },
   "outputs": [
    {
     "name": "stdout",
     "output_type": "stream",
     "text": [
      "[[1.0000000e+00 0.0000000e+00 0.0000000e+00 ... 1.0000000e+00\n",
      "  1.0000000e+00 1.0134888e+05]\n",
      " [0.0000000e+00 1.0000000e+00 0.0000000e+00 ... 0.0000000e+00\n",
      "  1.0000000e+00 1.1254258e+05]\n",
      " [1.0000000e+00 0.0000000e+00 0.0000000e+00 ... 1.0000000e+00\n",
      "  0.0000000e+00 1.1393157e+05]\n",
      " ...\n",
      " [1.0000000e+00 0.0000000e+00 0.0000000e+00 ... 0.0000000e+00\n",
      "  1.0000000e+00 4.2085580e+04]\n",
      " [0.0000000e+00 0.0000000e+00 1.0000000e+00 ... 1.0000000e+00\n",
      "  0.0000000e+00 9.2888520e+04]\n",
      " [1.0000000e+00 0.0000000e+00 0.0000000e+00 ... 1.0000000e+00\n",
      "  0.0000000e+00 3.8190780e+04]]\n"
     ]
    }
   ],
   "source": [
    "print(x1)"
   ]
  },
  {
   "cell_type": "code",
   "execution_count": 84,
   "metadata": {
    "ExecuteTime": {
     "end_time": "2022-04-05T17:44:38.400373Z",
     "start_time": "2022-04-05T17:44:38.384414Z"
    }
   },
   "outputs": [],
   "source": [
    "x_train1, x_test1, y_train1, y_test1= train_test_split(x1,y1, stratify=y1, test_size=0.2, random_state=0)"
   ]
  },
  {
   "cell_type": "code",
   "execution_count": 106,
   "metadata": {
    "ExecuteTime": {
     "end_time": "2022-04-05T17:50:41.939039Z",
     "start_time": "2022-04-05T17:50:41.918098Z"
    }
   },
   "outputs": [],
   "source": [
    "x_train1=StandardScaler().fit_transform(x_train1)\n",
    "x_test1=StandardScaler().fit_transform(x_test1)"
   ]
  },
  {
   "cell_type": "markdown",
   "metadata": {},
   "source": [
    "## Building The ANN"
   ]
  },
  {
   "cell_type": "markdown",
   "metadata": {},
   "source": [
    "### Initializing The ANN"
   ]
  },
  {
   "cell_type": "code",
   "execution_count": 97,
   "metadata": {
    "ExecuteTime": {
     "end_time": "2022-04-05T17:48:01.306685Z",
     "start_time": "2022-04-05T17:48:01.295714Z"
    }
   },
   "outputs": [],
   "source": [
    "# Create a variabel which is ANN itself. This variabel ANN create as object of certain class, \n",
    "# and the certain class is the sequential class which allow exactly to build ANN but as sequence of layer as suppose to \n",
    "# a computational graph\n",
    "ann = tf.keras.models.Sequential()\n",
    "# Create this ANN variable which represent ANN created as an instance of that sequential class \n",
    "# which initialized are ANN as the sequence of layer (First Step)"
   ]
  },
  {
   "cell_type": "markdown",
   "metadata": {},
   "source": [
    "### Adding the input layer and the first hidden layer"
   ]
  },
  {
   "cell_type": "code",
   "execution_count": 98,
   "metadata": {
    "ExecuteTime": {
     "end_time": "2022-04-05T17:48:04.317637Z",
     "start_time": "2022-04-05T17:48:04.307663Z"
    }
   },
   "outputs": [],
   "source": [
    "#units=how many neuron in dense is basically no rule of thumb, just experimentation (Experiment with different hyperparameter)\n",
    "#activation=activation function, 'relu' is code for recitify function\n",
    "ann.add(tf.keras.layers.Dense(units=6,activation='relu'))"
   ]
  },
  {
   "cell_type": "markdown",
   "metadata": {},
   "source": [
    "### Adding the second hidden layer"
   ]
  },
  {
   "cell_type": "code",
   "execution_count": 99,
   "metadata": {
    "ExecuteTime": {
     "end_time": "2022-04-05T17:48:05.965235Z",
     "start_time": "2022-04-05T17:48:05.961244Z"
    }
   },
   "outputs": [],
   "source": [
    "ann.add(tf.keras.layers.Dense(units=6,activation='relu'))"
   ]
  },
  {
   "cell_type": "markdown",
   "metadata": {},
   "source": [
    "### Adding the output layer"
   ]
  },
  {
   "cell_type": "code",
   "execution_count": 100,
   "metadata": {
    "ExecuteTime": {
     "end_time": "2022-04-05T17:48:31.327404Z",
     "start_time": "2022-04-05T17:48:31.315434Z"
    }
   },
   "outputs": [],
   "source": [
    "#units=how many neuron in output layer is based on what count of value we want to predict. In this case we only want the\n",
    "#customer who churn/not churn, it means this ANN output only contain 1 value. Therefore units must be fill by 1 Neuron.\n",
    "#activation= for this case we better use sigmoid activation, since it provide not only strict prediction, \n",
    "# it's also provide probability value of the prediction.\n",
    "ann.add(tf.keras.layers.Dense(units=1,activation='sigmoid'))"
   ]
  },
  {
   "cell_type": "markdown",
   "metadata": {},
   "source": [
    "## Trainning The Artificial Neural Network (ANN)"
   ]
  },
  {
   "cell_type": "markdown",
   "metadata": {},
   "source": [
    "### Compiling The ANN"
   ]
  },
  {
   "cell_type": "code",
   "execution_count": 101,
   "metadata": {
    "ExecuteTime": {
     "end_time": "2022-04-05T17:48:34.602432Z",
     "start_time": "2022-04-05T17:48:34.593421Z"
    }
   },
   "outputs": [],
   "source": [
    "#optimizer=choose the optimizer which can perform stochastic gradient descent, we choose adam optimizer\n",
    "#loss=since this ANN has a purpose to predict binary classification we choose binary_crossentropy,\n",
    "#if we predict more than binary we choose categorycol_crossentropy\n",
    "ann.compile(optimizer='adam', loss='binary_crossentropy',metrics=['accuracy'])"
   ]
  },
  {
   "cell_type": "code",
   "execution_count": 165,
   "metadata": {
    "ExecuteTime": {
     "end_time": "2022-04-05T19:26:49.740051Z",
     "start_time": "2022-04-05T19:26:49.717118Z"
    }
   },
   "outputs": [],
   "source": [
    "ann.compile(optimizer='adam', loss='binary_crossentropy',metrics=['accuracy',tf.keras.metrics.Recall()])"
   ]
  },
  {
   "cell_type": "code",
   "execution_count": 185,
   "metadata": {
    "ExecuteTime": {
     "end_time": "2022-04-05T20:33:53.442130Z",
     "start_time": "2022-04-05T20:33:53.435149Z"
    }
   },
   "outputs": [],
   "source": [
    "def ann_func():\n",
    "    ann2=tf.keras.models.Sequential()\n",
    "    ann2.add(tf.keras.layers.Dense(units=8,activation='relu'))\n",
    "    ann2.add(tf.keras.layers.Dense(units=100,activation='relu'))\n",
    "    ann2.add(tf.keras.layers.Dense(units=1,activation='sigmoid'))\n",
    "    ann2.compile(optimizer='adam', loss='binary_crossentropy',metrics=[tf.keras.metrics.Recall()])\n",
    "    return ann2"
   ]
  },
  {
   "cell_type": "markdown",
   "metadata": {},
   "source": [
    "### Trainning The ANN"
   ]
  },
  {
   "cell_type": "code",
   "execution_count": 186,
   "metadata": {
    "ExecuteTime": {
     "end_time": "2022-04-05T20:34:45.109495Z",
     "start_time": "2022-04-05T20:33:55.579281Z"
    },
    "scrolled": true
   },
   "outputs": [
    {
     "name": "stdout",
     "output_type": "stream",
     "text": [
      "Epoch 1/200\n",
      "160/160 [==============================] - 1s 1ms/step - loss: 0.5531 - recall_15: 0.0669\n",
      "Epoch 2/200\n",
      "160/160 [==============================] - 0s 2ms/step - loss: 0.4555 - recall_15: 0.0405\n",
      "Epoch 3/200\n",
      "160/160 [==============================] - 0s 2ms/step - loss: 0.4310 - recall_15: 0.1816\n",
      "Epoch 4/200\n",
      "160/160 [==============================] - 0s 2ms/step - loss: 0.4183 - recall_15: 0.2166\n",
      "Epoch 5/200\n",
      "160/160 [==============================] - 0s 2ms/step - loss: 0.4050 - recall_15: 0.2558\n",
      "Epoch 6/200\n",
      "160/160 [==============================] - 0s 1ms/step - loss: 0.3905 - recall_15: 0.3086\n",
      "Epoch 7/200\n",
      "160/160 [==============================] - 0s 1ms/step - loss: 0.3781 - recall_15: 0.3607\n",
      "Epoch 8/200\n",
      "160/160 [==============================] - 0s 1ms/step - loss: 0.3674 - recall_15: 0.4092\n",
      "Epoch 9/200\n",
      "160/160 [==============================] - 0s 1ms/step - loss: 0.3580 - recall_15: 0.4294\n",
      "Epoch 10/200\n",
      "160/160 [==============================] - 0s 2ms/step - loss: 0.3523 - recall_15: 0.4656\n",
      "Epoch 11/200\n",
      "160/160 [==============================] - 0s 2ms/step - loss: 0.3471 - recall_15: 0.4706\n",
      "Epoch 12/200\n",
      "160/160 [==============================] - 0s 2ms/step - loss: 0.3435 - recall_15: 0.4865\n",
      "Epoch 13/200\n",
      "160/160 [==============================] - 0s 2ms/step - loss: 0.3409 - recall_15: 0.4902\n",
      "Epoch 14/200\n",
      "160/160 [==============================] - 0s 2ms/step - loss: 0.3386 - recall_15: 0.4865\n",
      "Epoch 15/200\n",
      "160/160 [==============================] - 0s 2ms/step - loss: 0.3363 - recall_15: 0.4969\n",
      "Epoch 16/200\n",
      "160/160 [==============================] - 0s 2ms/step - loss: 0.3350 - recall_15: 0.4963\n",
      "Epoch 17/200\n",
      "160/160 [==============================] - 0s 2ms/step - loss: 0.3346 - recall_15: 0.4908\n",
      "Epoch 18/200\n",
      "160/160 [==============================] - 0s 2ms/step - loss: 0.3327 - recall_15: 0.5067\n",
      "Epoch 19/200\n",
      "160/160 [==============================] - 0s 2ms/step - loss: 0.3312 - recall_15: 0.5031\n",
      "Epoch 20/200\n",
      "160/160 [==============================] - 0s 2ms/step - loss: 0.3308 - recall_15: 0.5006\n",
      "Epoch 21/200\n",
      "160/160 [==============================] - 0s 2ms/step - loss: 0.3298 - recall_15: 0.5110\n",
      "Epoch 22/200\n",
      "160/160 [==============================] - 0s 2ms/step - loss: 0.3302 - recall_15: 0.5067\n",
      "Epoch 23/200\n",
      "160/160 [==============================] - 0s 2ms/step - loss: 0.3284 - recall_15: 0.5031\n",
      "Epoch 24/200\n",
      "160/160 [==============================] - 0s 2ms/step - loss: 0.3292 - recall_15: 0.5067\n",
      "Epoch 25/200\n",
      "160/160 [==============================] - 0s 2ms/step - loss: 0.3288 - recall_15: 0.5012\n",
      "Epoch 26/200\n",
      "160/160 [==============================] - 0s 2ms/step - loss: 0.3266 - recall_15: 0.4988\n",
      "Epoch 27/200\n",
      "160/160 [==============================] - 0s 2ms/step - loss: 0.3263 - recall_15: 0.5080\n",
      "Epoch 28/200\n",
      "160/160 [==============================] - 0s 2ms/step - loss: 0.3252 - recall_15: 0.5018\n",
      "Epoch 29/200\n",
      "160/160 [==============================] - 0s 2ms/step - loss: 0.3265 - recall_15: 0.5074\n",
      "Epoch 30/200\n",
      "160/160 [==============================] - 0s 2ms/step - loss: 0.3248 - recall_15: 0.5080\n",
      "Epoch 31/200\n",
      "160/160 [==============================] - 0s 2ms/step - loss: 0.3249 - recall_15: 0.5055\n",
      "Epoch 32/200\n",
      "160/160 [==============================] - 0s 2ms/step - loss: 0.3246 - recall_15: 0.5160\n",
      "Epoch 33/200\n",
      "160/160 [==============================] - 0s 2ms/step - loss: 0.3241 - recall_15: 0.5000\n",
      "Epoch 34/200\n",
      "160/160 [==============================] - 0s 1ms/step - loss: 0.3243 - recall_15: 0.5074\n",
      "Epoch 35/200\n",
      "160/160 [==============================] - 0s 2ms/step - loss: 0.3230 - recall_15: 0.4951\n",
      "Epoch 36/200\n",
      "160/160 [==============================] - 0s 2ms/step - loss: 0.3231 - recall_15: 0.5135\n",
      "Epoch 37/200\n",
      "160/160 [==============================] - 0s 2ms/step - loss: 0.3233 - recall_15: 0.5055\n",
      "Epoch 38/200\n",
      "160/160 [==============================] - 0s 2ms/step - loss: 0.3232 - recall_15: 0.5006\n",
      "Epoch 39/200\n",
      "160/160 [==============================] - 0s 1ms/step - loss: 0.3228 - recall_15: 0.5055\n",
      "Epoch 40/200\n",
      "160/160 [==============================] - 0s 1ms/step - loss: 0.3219 - recall_15: 0.5025\n",
      "Epoch 41/200\n",
      "160/160 [==============================] - 0s 1ms/step - loss: 0.3226 - recall_15: 0.5147\n",
      "Epoch 42/200\n",
      "160/160 [==============================] - 0s 2ms/step - loss: 0.3215 - recall_15: 0.5166\n",
      "Epoch 43/200\n",
      "160/160 [==============================] - 0s 2ms/step - loss: 0.3211 - recall_15: 0.5055\n",
      "Epoch 44/200\n",
      "160/160 [==============================] - 0s 1ms/step - loss: 0.3210 - recall_15: 0.5006\n",
      "Epoch 45/200\n",
      "160/160 [==============================] - 0s 1ms/step - loss: 0.3215 - recall_15: 0.5074\n",
      "Epoch 46/200\n",
      "160/160 [==============================] - 0s 2ms/step - loss: 0.3202 - recall_15: 0.5055\n",
      "Epoch 47/200\n",
      "160/160 [==============================] - 0s 2ms/step - loss: 0.3204 - recall_15: 0.5123\n",
      "Epoch 48/200\n",
      "160/160 [==============================] - 0s 1ms/step - loss: 0.3205 - recall_15: 0.5037\n",
      "Epoch 49/200\n",
      "160/160 [==============================] - 0s 2ms/step - loss: 0.3201 - recall_15: 0.5098\n",
      "Epoch 50/200\n",
      "160/160 [==============================] - 0s 2ms/step - loss: 0.3199 - recall_15: 0.5092\n",
      "Epoch 51/200\n",
      "160/160 [==============================] - 0s 2ms/step - loss: 0.3200 - recall_15: 0.5110\n",
      "Epoch 52/200\n",
      "160/160 [==============================] - 0s 2ms/step - loss: 0.3196 - recall_15: 0.5018\n",
      "Epoch 53/200\n",
      "160/160 [==============================] - 0s 1ms/step - loss: 0.3189 - recall_15: 0.5006\n",
      "Epoch 54/200\n",
      "160/160 [==============================] - 0s 1ms/step - loss: 0.3193 - recall_15: 0.5104\n",
      "Epoch 55/200\n",
      "160/160 [==============================] - 0s 1ms/step - loss: 0.3188 - recall_15: 0.5160\n",
      "Epoch 56/200\n",
      "160/160 [==============================] - 0s 1ms/step - loss: 0.3187 - recall_15: 0.5055\n",
      "Epoch 57/200\n",
      "160/160 [==============================] - 0s 1ms/step - loss: 0.3191 - recall_15: 0.5049\n",
      "Epoch 58/200\n",
      "160/160 [==============================] - 0s 2ms/step - loss: 0.3184 - recall_15: 0.5086\n",
      "Epoch 59/200\n",
      "160/160 [==============================] - 0s 2ms/step - loss: 0.3178 - recall_15: 0.5061\n",
      "Epoch 60/200\n",
      "160/160 [==============================] - 0s 2ms/step - loss: 0.3178 - recall_15: 0.5117\n",
      "Epoch 61/200\n",
      "160/160 [==============================] - 0s 2ms/step - loss: 0.3194 - recall_15: 0.5117\n",
      "Epoch 62/200\n",
      "160/160 [==============================] - 0s 2ms/step - loss: 0.3183 - recall_15: 0.5037\n",
      "Epoch 63/200\n",
      "160/160 [==============================] - 0s 2ms/step - loss: 0.3175 - recall_15: 0.5055\n",
      "Epoch 64/200\n",
      "160/160 [==============================] - 0s 2ms/step - loss: 0.3170 - recall_15: 0.5104\n",
      "Epoch 65/200\n",
      "160/160 [==============================] - 0s 2ms/step - loss: 0.3171 - recall_15: 0.5123\n",
      "Epoch 66/200\n",
      "160/160 [==============================] - 0s 2ms/step - loss: 0.3174 - recall_15: 0.5025\n",
      "Epoch 67/200\n",
      "160/160 [==============================] - 0s 2ms/step - loss: 0.3170 - recall_15: 0.5153\n",
      "Epoch 68/200\n",
      "160/160 [==============================] - 0s 2ms/step - loss: 0.3171 - recall_15: 0.5098\n",
      "Epoch 69/200\n",
      "160/160 [==============================] - 0s 2ms/step - loss: 0.3165 - recall_15: 0.5147\n",
      "Epoch 70/200\n",
      "160/160 [==============================] - 0s 2ms/step - loss: 0.3173 - recall_15: 0.5117\n",
      "Epoch 71/200\n",
      "160/160 [==============================] - 0s 2ms/step - loss: 0.3171 - recall_15: 0.5012\n",
      "Epoch 72/200\n",
      "160/160 [==============================] - 0s 2ms/step - loss: 0.3170 - recall_15: 0.5160\n",
      "Epoch 73/200\n",
      "160/160 [==============================] - 0s 1ms/step - loss: 0.3159 - recall_15: 0.5080\n",
      "Epoch 74/200\n",
      "160/160 [==============================] - 0s 1ms/step - loss: 0.3169 - recall_15: 0.5110\n",
      "Epoch 75/200\n",
      "160/160 [==============================] - 0s 2ms/step - loss: 0.3164 - recall_15: 0.5141\n",
      "Epoch 76/200\n",
      "160/160 [==============================] - 0s 2ms/step - loss: 0.3158 - recall_15: 0.5037\n",
      "Epoch 77/200\n",
      "160/160 [==============================] - 0s 1ms/step - loss: 0.3153 - recall_15: 0.5037\n",
      "Epoch 78/200\n",
      "160/160 [==============================] - 0s 2ms/step - loss: 0.3153 - recall_15: 0.5117\n",
      "Epoch 79/200\n",
      "160/160 [==============================] - 0s 2ms/step - loss: 0.3149 - recall_15: 0.5117\n",
      "Epoch 80/200\n"
     ]
    },
    {
     "name": "stdout",
     "output_type": "stream",
     "text": [
      "160/160 [==============================] - 0s 1ms/step - loss: 0.3152 - recall_15: 0.5209\n",
      "Epoch 81/200\n",
      "160/160 [==============================] - 0s 2ms/step - loss: 0.3147 - recall_15: 0.5166\n",
      "Epoch 82/200\n",
      "160/160 [==============================] - 0s 1ms/step - loss: 0.3150 - recall_15: 0.5117\n",
      "Epoch 83/200\n",
      "160/160 [==============================] - 0s 1ms/step - loss: 0.3147 - recall_15: 0.5147\n",
      "Epoch 84/200\n",
      "160/160 [==============================] - 0s 2ms/step - loss: 0.3149 - recall_15: 0.5061\n",
      "Epoch 85/200\n",
      "160/160 [==============================] - 0s 2ms/step - loss: 0.3151 - recall_15: 0.5209\n",
      "Epoch 86/200\n",
      "160/160 [==============================] - 0s 1ms/step - loss: 0.3148 - recall_15: 0.5067\n",
      "Epoch 87/200\n",
      "160/160 [==============================] - 0s 2ms/step - loss: 0.3144 - recall_15: 0.5135\n",
      "Epoch 88/200\n",
      "160/160 [==============================] - 0s 1ms/step - loss: 0.3151 - recall_15: 0.5141\n",
      "Epoch 89/200\n",
      "160/160 [==============================] - 0s 1ms/step - loss: 0.3142 - recall_15: 0.5135\n",
      "Epoch 90/200\n",
      "160/160 [==============================] - 0s 1ms/step - loss: 0.3142 - recall_15: 0.5080\n",
      "Epoch 91/200\n",
      "160/160 [==============================] - 0s 2ms/step - loss: 0.3136 - recall_15: 0.5215\n",
      "Epoch 92/200\n",
      "160/160 [==============================] - 0s 2ms/step - loss: 0.3146 - recall_15: 0.5086\n",
      "Epoch 93/200\n",
      "160/160 [==============================] - 0s 1ms/step - loss: 0.3136 - recall_15: 0.5141\n",
      "Epoch 94/200\n",
      "160/160 [==============================] - 0s 1ms/step - loss: 0.3143 - recall_15: 0.5190\n",
      "Epoch 95/200\n",
      "160/160 [==============================] - 0s 2ms/step - loss: 0.3134 - recall_15: 0.5098\n",
      "Epoch 96/200\n",
      "160/160 [==============================] - 0s 1ms/step - loss: 0.3135 - recall_15: 0.5215\n",
      "Epoch 97/200\n",
      "160/160 [==============================] - 0s 1ms/step - loss: 0.3129 - recall_15: 0.5190\n",
      "Epoch 98/200\n",
      "160/160 [==============================] - 0s 1ms/step - loss: 0.3133 - recall_15: 0.5166\n",
      "Epoch 99/200\n",
      "160/160 [==============================] - 0s 1ms/step - loss: 0.3128 - recall_15: 0.5153\n",
      "Epoch 100/200\n",
      "160/160 [==============================] - 0s 1ms/step - loss: 0.3128 - recall_15: 0.5160\n",
      "Epoch 101/200\n",
      "160/160 [==============================] - 0s 1ms/step - loss: 0.3127 - recall_15: 0.5160\n",
      "Epoch 102/200\n",
      "160/160 [==============================] - 0s 1ms/step - loss: 0.3126 - recall_15: 0.5215\n",
      "Epoch 103/200\n",
      "160/160 [==============================] - 0s 2ms/step - loss: 0.3118 - recall_15: 0.5184\n",
      "Epoch 104/200\n",
      "160/160 [==============================] - 0s 2ms/step - loss: 0.3127 - recall_15: 0.5129\n",
      "Epoch 105/200\n",
      "160/160 [==============================] - 0s 2ms/step - loss: 0.3112 - recall_15: 0.5221\n",
      "Epoch 106/200\n",
      "160/160 [==============================] - 0s 2ms/step - loss: 0.3120 - recall_15: 0.5196\n",
      "Epoch 107/200\n",
      "160/160 [==============================] - 0s 2ms/step - loss: 0.3122 - recall_15: 0.5147\n",
      "Epoch 108/200\n",
      "160/160 [==============================] - 0s 1ms/step - loss: 0.3124 - recall_15: 0.5184\n",
      "Epoch 109/200\n",
      "160/160 [==============================] - 0s 1ms/step - loss: 0.3113 - recall_15: 0.5184\n",
      "Epoch 110/200\n",
      "160/160 [==============================] - 0s 1ms/step - loss: 0.3124 - recall_15: 0.5190\n",
      "Epoch 111/200\n",
      "160/160 [==============================] - 0s 1ms/step - loss: 0.3114 - recall_15: 0.5190\n",
      "Epoch 112/200\n",
      "160/160 [==============================] - 0s 1ms/step - loss: 0.3118 - recall_15: 0.5178\n",
      "Epoch 113/200\n",
      "160/160 [==============================] - 0s 1ms/step - loss: 0.3121 - recall_15: 0.5160\n",
      "Epoch 114/200\n",
      "160/160 [==============================] - 0s 1ms/step - loss: 0.3113 - recall_15: 0.5196\n",
      "Epoch 115/200\n",
      "160/160 [==============================] - 0s 1ms/step - loss: 0.3109 - recall_15: 0.5178\n",
      "Epoch 116/200\n",
      "160/160 [==============================] - 0s 2ms/step - loss: 0.3114 - recall_15: 0.5202\n",
      "Epoch 117/200\n",
      "160/160 [==============================] - 0s 1ms/step - loss: 0.3108 - recall_15: 0.5147\n",
      "Epoch 118/200\n",
      "160/160 [==============================] - 0s 2ms/step - loss: 0.3104 - recall_15: 0.5209\n",
      "Epoch 119/200\n",
      "160/160 [==============================] - 0s 1ms/step - loss: 0.3108 - recall_15: 0.5221\n",
      "Epoch 120/200\n",
      "160/160 [==============================] - 0s 2ms/step - loss: 0.3106 - recall_15: 0.5245\n",
      "Epoch 121/200\n",
      "160/160 [==============================] - 0s 2ms/step - loss: 0.3103 - recall_15: 0.5172\n",
      "Epoch 122/200\n",
      "160/160 [==============================] - 0s 2ms/step - loss: 0.3103 - recall_15: 0.5245\n",
      "Epoch 123/200\n",
      "160/160 [==============================] - 0s 2ms/step - loss: 0.3099 - recall_15: 0.5239\n",
      "Epoch 124/200\n",
      "160/160 [==============================] - 0s 2ms/step - loss: 0.3098 - recall_15: 0.5141\n",
      "Epoch 125/200\n",
      "160/160 [==============================] - 0s 1ms/step - loss: 0.3110 - recall_15: 0.5221\n",
      "Epoch 126/200\n",
      "160/160 [==============================] - 0s 1ms/step - loss: 0.3102 - recall_15: 0.5215\n",
      "Epoch 127/200\n",
      "160/160 [==============================] - 0s 2ms/step - loss: 0.3099 - recall_15: 0.5215\n",
      "Epoch 128/200\n",
      "160/160 [==============================] - 0s 1ms/step - loss: 0.3097 - recall_15: 0.5264\n",
      "Epoch 129/200\n",
      "160/160 [==============================] - 0s 1ms/step - loss: 0.3091 - recall_15: 0.5239\n",
      "Epoch 130/200\n",
      "160/160 [==============================] - 0s 1ms/step - loss: 0.3096 - recall_15: 0.5196\n",
      "Epoch 131/200\n",
      "160/160 [==============================] - 0s 1ms/step - loss: 0.3097 - recall_15: 0.5227\n",
      "Epoch 132/200\n",
      "160/160 [==============================] - 0s 2ms/step - loss: 0.3091 - recall_15: 0.5190\n",
      "Epoch 133/200\n",
      "160/160 [==============================] - 0s 2ms/step - loss: 0.3089 - recall_15: 0.5264\n",
      "Epoch 134/200\n",
      "160/160 [==============================] - 0s 2ms/step - loss: 0.3098 - recall_15: 0.5245\n",
      "Epoch 135/200\n",
      "160/160 [==============================] - 0s 2ms/step - loss: 0.3085 - recall_15: 0.5239\n",
      "Epoch 136/200\n",
      "160/160 [==============================] - 0s 1ms/step - loss: 0.3087 - recall_15: 0.5270\n",
      "Epoch 137/200\n",
      "160/160 [==============================] - 0s 1ms/step - loss: 0.3094 - recall_15: 0.5270\n",
      "Epoch 138/200\n",
      "160/160 [==============================] - 0s 1ms/step - loss: 0.3090 - recall_15: 0.5166\n",
      "Epoch 139/200\n",
      "160/160 [==============================] - 0s 1ms/step - loss: 0.3087 - recall_15: 0.5239\n",
      "Epoch 140/200\n",
      "160/160 [==============================] - 0s 1ms/step - loss: 0.3081 - recall_15: 0.5202\n",
      "Epoch 141/200\n",
      "160/160 [==============================] - 0s 1ms/step - loss: 0.3094 - recall_15: 0.5288\n",
      "Epoch 142/200\n",
      "160/160 [==============================] - 0s 2ms/step - loss: 0.3082 - recall_15: 0.5294\n",
      "Epoch 143/200\n",
      "160/160 [==============================] - 0s 2ms/step - loss: 0.3081 - recall_15: 0.5301\n",
      "Epoch 144/200\n",
      "160/160 [==============================] - 0s 1ms/step - loss: 0.3084 - recall_15: 0.5215\n",
      "Epoch 145/200\n",
      "160/160 [==============================] - 0s 1ms/step - loss: 0.3089 - recall_15: 0.5233\n",
      "Epoch 146/200\n",
      "160/160 [==============================] - 0s 2ms/step - loss: 0.3075 - recall_15: 0.5294\n",
      "Epoch 147/200\n",
      "160/160 [==============================] - 0s 1ms/step - loss: 0.3076 - recall_15: 0.5184\n",
      "Epoch 148/200\n",
      "160/160 [==============================] - 0s 1ms/step - loss: 0.3077 - recall_15: 0.5301\n",
      "Epoch 149/200\n",
      "160/160 [==============================] - 0s 1ms/step - loss: 0.3079 - recall_15: 0.5313\n",
      "Epoch 150/200\n",
      "160/160 [==============================] - 0s 2ms/step - loss: 0.3069 - recall_15: 0.5270\n",
      "Epoch 151/200\n",
      "160/160 [==============================] - 0s 1ms/step - loss: 0.3073 - recall_15: 0.5294\n",
      "Epoch 152/200\n",
      "160/160 [==============================] - 0s 1ms/step - loss: 0.3069 - recall_15: 0.5221\n",
      "Epoch 153/200\n",
      "160/160 [==============================] - 0s 1ms/step - loss: 0.3077 - recall_15: 0.5307\n",
      "Epoch 154/200\n",
      "160/160 [==============================] - 0s 1ms/step - loss: 0.3072 - recall_15: 0.5258\n",
      "Epoch 155/200\n",
      "160/160 [==============================] - 0s 1ms/step - loss: 0.3072 - recall_15: 0.5325\n",
      "Epoch 156/200\n",
      "160/160 [==============================] - 0s 1ms/step - loss: 0.3070 - recall_15: 0.5288\n",
      "Epoch 157/200\n",
      "160/160 [==============================] - 0s 1ms/step - loss: 0.3069 - recall_15: 0.5331\n",
      "Epoch 158/200\n",
      "160/160 [==============================] - 0s 1ms/step - loss: 0.3067 - recall_15: 0.5196\n",
      "Epoch 159/200\n"
     ]
    },
    {
     "name": "stdout",
     "output_type": "stream",
     "text": [
      "160/160 [==============================] - 0s 1ms/step - loss: 0.3075 - recall_15: 0.5233\n",
      "Epoch 160/200\n",
      "160/160 [==============================] - 0s 1ms/step - loss: 0.3069 - recall_15: 0.5313\n",
      "Epoch 161/200\n",
      "160/160 [==============================] - 0s 1ms/step - loss: 0.3070 - recall_15: 0.5215\n",
      "Epoch 162/200\n",
      "160/160 [==============================] - 0s 1ms/step - loss: 0.3062 - recall_15: 0.5252\n",
      "Epoch 163/200\n",
      "160/160 [==============================] - 0s 1ms/step - loss: 0.3058 - recall_15: 0.5313\n",
      "Epoch 164/200\n",
      "160/160 [==============================] - 0s 1ms/step - loss: 0.3062 - recall_15: 0.5233\n",
      "Epoch 165/200\n",
      "160/160 [==============================] - 0s 1ms/step - loss: 0.3062 - recall_15: 0.5270\n",
      "Epoch 166/200\n",
      "160/160 [==============================] - 0s 1ms/step - loss: 0.3060 - recall_15: 0.5227\n",
      "Epoch 167/200\n",
      "160/160 [==============================] - 0s 1ms/step - loss: 0.3067 - recall_15: 0.5374\n",
      "Epoch 168/200\n",
      "160/160 [==============================] - 0s 2ms/step - loss: 0.3061 - recall_15: 0.5252\n",
      "Epoch 169/200\n",
      "160/160 [==============================] - 0s 2ms/step - loss: 0.3050 - recall_15: 0.5288\n",
      "Epoch 170/200\n",
      "160/160 [==============================] - 0s 2ms/step - loss: 0.3066 - recall_15: 0.5307\n",
      "Epoch 171/200\n",
      "160/160 [==============================] - 0s 2ms/step - loss: 0.3059 - recall_15: 0.5337\n",
      "Epoch 172/200\n",
      "160/160 [==============================] - 0s 2ms/step - loss: 0.3056 - recall_15: 0.5270\n",
      "Epoch 173/200\n",
      "160/160 [==============================] - 0s 2ms/step - loss: 0.3060 - recall_15: 0.5325\n",
      "Epoch 174/200\n",
      "160/160 [==============================] - 0s 2ms/step - loss: 0.3058 - recall_15: 0.5233\n",
      "Epoch 175/200\n",
      "160/160 [==============================] - 0s 2ms/step - loss: 0.3055 - recall_15: 0.5344\n",
      "Epoch 176/200\n",
      "160/160 [==============================] - 0s 2ms/step - loss: 0.3053 - recall_15: 0.5319\n",
      "Epoch 177/200\n",
      "160/160 [==============================] - 0s 2ms/step - loss: 0.3055 - recall_15: 0.5337\n",
      "Epoch 178/200\n",
      "160/160 [==============================] - 0s 2ms/step - loss: 0.3049 - recall_15: 0.5239\n",
      "Epoch 179/200\n",
      "160/160 [==============================] - 0s 2ms/step - loss: 0.3051 - recall_15: 0.5264\n",
      "Epoch 180/200\n",
      "160/160 [==============================] - 0s 1ms/step - loss: 0.3057 - recall_15: 0.5362\n",
      "Epoch 181/200\n",
      "160/160 [==============================] - 0s 2ms/step - loss: 0.3040 - recall_15: 0.5270\n",
      "Epoch 182/200\n",
      "160/160 [==============================] - 0s 1ms/step - loss: 0.3047 - recall_15: 0.5313\n",
      "Epoch 183/200\n",
      "160/160 [==============================] - 0s 2ms/step - loss: 0.3045 - recall_15: 0.5227\n",
      "Epoch 184/200\n",
      "160/160 [==============================] - 0s 1ms/step - loss: 0.3045 - recall_15: 0.5301\n",
      "Epoch 185/200\n",
      "160/160 [==============================] - 0s 1ms/step - loss: 0.3035 - recall_15: 0.5319\n",
      "Epoch 186/200\n",
      "160/160 [==============================] - 0s 2ms/step - loss: 0.3039 - recall_15: 0.5350\n",
      "Epoch 187/200\n",
      "160/160 [==============================] - 0s 2ms/step - loss: 0.3035 - recall_15: 0.5209\n",
      "Epoch 188/200\n",
      "160/160 [==============================] - 0s 2ms/step - loss: 0.3048 - recall_15: 0.5288\n",
      "Epoch 189/200\n",
      "160/160 [==============================] - 0s 2ms/step - loss: 0.3041 - recall_15: 0.5325\n",
      "Epoch 190/200\n",
      "160/160 [==============================] - 0s 2ms/step - loss: 0.3039 - recall_15: 0.5288\n",
      "Epoch 191/200\n",
      "160/160 [==============================] - 0s 2ms/step - loss: 0.3039 - recall_15: 0.5319\n",
      "Epoch 192/200\n",
      "160/160 [==============================] - 0s 2ms/step - loss: 0.3036 - recall_15: 0.5313\n",
      "Epoch 193/200\n",
      "160/160 [==============================] - 0s 2ms/step - loss: 0.3036 - recall_15: 0.5294\n",
      "Epoch 194/200\n",
      "160/160 [==============================] - 0s 1ms/step - loss: 0.3038 - recall_15: 0.5270\n",
      "Epoch 195/200\n",
      "160/160 [==============================] - 0s 2ms/step - loss: 0.3038 - recall_15: 0.5374\n",
      "Epoch 196/200\n",
      "160/160 [==============================] - 0s 1ms/step - loss: 0.3038 - recall_15: 0.5319\n",
      "Epoch 197/200\n",
      "160/160 [==============================] - 0s 2ms/step - loss: 0.3037 - recall_15: 0.5252\n",
      "Epoch 198/200\n",
      "160/160 [==============================] - 0s 2ms/step - loss: 0.3032 - recall_15: 0.5362\n",
      "Epoch 199/200\n",
      "160/160 [==============================] - 0s 2ms/step - loss: 0.3033 - recall_15: 0.5258\n",
      "Epoch 200/200\n",
      "160/160 [==============================] - 0s 2ms/step - loss: 0.3027 - recall_15: 0.5331\n"
     ]
    },
    {
     "data": {
      "text/plain": [
       "<keras.callbacks.History at 0x2b10454a670>"
      ]
     },
     "execution_count": 186,
     "metadata": {},
     "output_type": "execute_result"
    }
   ],
   "source": [
    "ann_func().fit(x_train1,y_train1, batch_size=50, epochs=200)"
   ]
  },
  {
   "cell_type": "markdown",
   "metadata": {},
   "source": [
    "## Making the predictions and evaluating the models"
   ]
  },
  {
   "cell_type": "markdown",
   "metadata": {},
   "source": [
    "### Predicting the result of a single observation"
   ]
  },
  {
   "cell_type": "markdown",
   "metadata": {},
   "source": [
    "**Homework**\n",
    "\n",
    "Use our ANN model to predict if the customer with the following informations will leave the bank: \n",
    "\n",
    "Geography: France\n",
    "\n",
    "Credit Score: 600\n",
    "\n",
    "Gender: Male\n",
    "\n",
    "Age: 40 years old\n",
    "\n",
    "Tenure: 3 years\n",
    "\n",
    "Balance: \\$ 60000\n",
    "\n",
    "Number of Products: 2\n",
    "\n",
    "Does this customer have a credit card ? Yes\n",
    "\n",
    "Is this customer an Active Member: Yes\n",
    "\n",
    "Estimated Salary: \\$ 50000\n",
    "\n",
    "So, should we say goodbye to that customer ?"
   ]
  },
  {
   "cell_type": "markdown",
   "metadata": {},
   "source": [
    "**Solution**"
   ]
  },
  {
   "cell_type": "code",
   "execution_count": 187,
   "metadata": {
    "ExecuteTime": {
     "end_time": "2022-04-05T20:34:47.672677Z",
     "start_time": "2022-04-05T20:34:47.519054Z"
    }
   },
   "outputs": [
    {
     "data": {
      "text/plain": [
       "array([[0.5]], dtype=float32)"
      ]
     },
     "execution_count": 187,
     "metadata": {},
     "output_type": "execute_result"
    }
   ],
   "source": [
    "#If we use activation function sigmoid the result will be in probability to the default\n",
    "ann_func().predict(StandardScaler().fit_transform([[1, 0, 0, 600, 0, 40, 3, 60000, 2, 1, 1, 50000]]))"
   ]
  },
  {
   "cell_type": "code",
   "execution_count": 188,
   "metadata": {
    "ExecuteTime": {
     "end_time": "2022-04-05T20:34:48.794645Z",
     "start_time": "2022-04-05T20:34:48.646043Z"
    }
   },
   "outputs": [
    {
     "name": "stdout",
     "output_type": "stream",
     "text": [
      "[[False]]\n"
     ]
    }
   ],
   "source": [
    "#If we add threshold value about probability we and we print it, we can get answer false.\n",
    "print(ann_func().predict(StandardScaler().fit_transform([[1, 0, 0, 600, 0, 40, 3, 60000, 2, 1, 1, 50000]])) > 0.5)"
   ]
  },
  {
   "cell_type": "markdown",
   "metadata": {},
   "source": [
    "Therefore, our ANN model predicts that this customer stays in the bank!\n",
    "\n",
    "**Important note 1:** Notice that the values of the features were all input in a double pair of square brackets. That's because the \"predict\" method always expects a 2D array as the format of its inputs. And putting our values into a double pair of square brackets makes the input exactly a 2D array.\n",
    "\n",
    "**Important note 2:** Notice also that the \"France\" country was not input as a string in the last column but as \"1, 0, 0\" in the first three columns. That's because of course the predict method expects the one-hot-encoded values of the state, and as we see in the first row of the matrix of features X, \"France\" was encoded as \"1, 0, 0\". And be careful to include these values in the first three columns, because the dummy variables are always created in the first columns."
   ]
  },
  {
   "cell_type": "markdown",
   "metadata": {
    "ExecuteTime": {
     "end_time": "2022-04-05T09:07:12.880792Z",
     "start_time": "2022-04-05T09:07:12.853869Z"
    }
   },
   "source": [
    "### Predicting the test result"
   ]
  },
  {
   "cell_type": "code",
   "execution_count": 189,
   "metadata": {
    "ExecuteTime": {
     "end_time": "2022-04-05T20:34:52.751114Z",
     "start_time": "2022-04-05T20:34:52.562576Z"
    }
   },
   "outputs": [],
   "source": [
    "y_pred1 = ann_func().predict(x_test1)\n",
    "y_pred1 = (y_pred1 > 0.5)\n",
    "#print(np.concatenate((y_pred1.reshape(len(y_pred1),1), y_test1.reshape(len(y_test1),1)),1))"
   ]
  },
  {
   "cell_type": "code",
   "execution_count": 190,
   "metadata": {
    "ExecuteTime": {
     "end_time": "2022-04-05T20:34:54.777653Z",
     "start_time": "2022-04-05T20:34:54.770672Z"
    }
   },
   "outputs": [
    {
     "data": {
      "text/plain": [
       "array([[False],\n",
       "       [ True],\n",
       "       [ True],\n",
       "       ...,\n",
       "       [ True],\n",
       "       [ True],\n",
       "       [False]])"
      ]
     },
     "execution_count": 190,
     "metadata": {},
     "output_type": "execute_result"
    }
   ],
   "source": [
    "y_pred1"
   ]
  },
  {
   "cell_type": "code",
   "execution_count": 191,
   "metadata": {
    "ExecuteTime": {
     "end_time": "2022-04-05T20:34:55.727153Z",
     "start_time": "2022-04-05T20:34:55.713156Z"
    }
   },
   "outputs": [
    {
     "data": {
      "text/plain": [
       "array([[False],\n",
       "       [ True],\n",
       "       [ True],\n",
       "       ...,\n",
       "       [ True],\n",
       "       [ True],\n",
       "       [False]])"
      ]
     },
     "execution_count": 191,
     "metadata": {},
     "output_type": "execute_result"
    }
   ],
   "source": [
    "np.array(y_pred1).reshape(len(y_pred1),1)"
   ]
  },
  {
   "cell_type": "code",
   "execution_count": 192,
   "metadata": {
    "ExecuteTime": {
     "end_time": "2022-04-05T20:34:57.444529Z",
     "start_time": "2022-04-05T20:34:57.428568Z"
    }
   },
   "outputs": [
    {
     "name": "stdout",
     "output_type": "stream",
     "text": [
      "[[0 1]\n",
      " [1 0]\n",
      " [1 0]\n",
      " ...\n",
      " [1 0]\n",
      " [1 1]\n",
      " [0 0]]\n"
     ]
    }
   ],
   "source": [
    "print(np.concatenate((np.array(y_pred1).reshape(len(y_pred1),1), np.array(y_test1).reshape(len(y_test1),1)),1))"
   ]
  },
  {
   "cell_type": "markdown",
   "metadata": {},
   "source": [
    "### Making the confusion metric"
   ]
  },
  {
   "cell_type": "code",
   "execution_count": 193,
   "metadata": {
    "ExecuteTime": {
     "end_time": "2022-04-05T20:34:59.040298Z",
     "start_time": "2022-04-05T20:34:59.019319Z"
    }
   },
   "outputs": [
    {
     "name": "stdout",
     "output_type": "stream",
     "text": [
      "[[ 373 1220]\n",
      " [  61  346]]\n",
      "              precision    recall  f1-score   support\n",
      "\n",
      "           0       0.86      0.23      0.37      1593\n",
      "           1       0.22      0.85      0.35       407\n",
      "\n",
      "    accuracy                           0.36      2000\n",
      "   macro avg       0.54      0.54      0.36      2000\n",
      "weighted avg       0.73      0.36      0.36      2000\n",
      "\n"
     ]
    }
   ],
   "source": [
    "cm = confusion_matrix(y_test1, y_pred1)\n",
    "print(cm)\n",
    "print(classification_report(y_test1, y_pred1))"
   ]
  },
  {
   "cell_type": "markdown",
   "metadata": {},
   "source": [
    "# Artificial Neural Network (ANN) With Pipeline"
   ]
  },
  {
   "cell_type": "markdown",
   "metadata": {},
   "source": [
    "## Data Pre-Processing"
   ]
  },
  {
   "cell_type": "code",
   "execution_count": 123,
   "metadata": {
    "ExecuteTime": {
     "end_time": "2022-04-05T18:18:25.876760Z",
     "start_time": "2022-04-05T18:18:25.867786Z"
    }
   },
   "outputs": [],
   "source": [
    "y2=df['Exited']\n",
    "x2=df.drop(columns=['CustomerId','RowNumber','Surname','Exited'], axis=1)"
   ]
  },
  {
   "cell_type": "code",
   "execution_count": 124,
   "metadata": {
    "ExecuteTime": {
     "end_time": "2022-04-05T18:18:34.097874Z",
     "start_time": "2022-04-05T18:18:34.068967Z"
    }
   },
   "outputs": [
    {
     "data": {
      "text/html": [
       "<div>\n",
       "<style scoped>\n",
       "    .dataframe tbody tr th:only-of-type {\n",
       "        vertical-align: middle;\n",
       "    }\n",
       "\n",
       "    .dataframe tbody tr th {\n",
       "        vertical-align: top;\n",
       "    }\n",
       "\n",
       "    .dataframe thead th {\n",
       "        text-align: right;\n",
       "    }\n",
       "</style>\n",
       "<table border=\"1\" class=\"dataframe\">\n",
       "  <thead>\n",
       "    <tr style=\"text-align: right;\">\n",
       "      <th></th>\n",
       "      <th>CreditScore</th>\n",
       "      <th>Geography</th>\n",
       "      <th>Gender</th>\n",
       "      <th>Age</th>\n",
       "      <th>Tenure</th>\n",
       "      <th>Balance</th>\n",
       "      <th>NumOfProducts</th>\n",
       "      <th>HasCrCard</th>\n",
       "      <th>IsActiveMember</th>\n",
       "      <th>EstimatedSalary</th>\n",
       "    </tr>\n",
       "  </thead>\n",
       "  <tbody>\n",
       "    <tr>\n",
       "      <th>0</th>\n",
       "      <td>619</td>\n",
       "      <td>France</td>\n",
       "      <td>Female</td>\n",
       "      <td>42</td>\n",
       "      <td>2</td>\n",
       "      <td>0.00</td>\n",
       "      <td>1</td>\n",
       "      <td>1</td>\n",
       "      <td>1</td>\n",
       "      <td>101348.88</td>\n",
       "    </tr>\n",
       "    <tr>\n",
       "      <th>1</th>\n",
       "      <td>608</td>\n",
       "      <td>Spain</td>\n",
       "      <td>Female</td>\n",
       "      <td>41</td>\n",
       "      <td>1</td>\n",
       "      <td>83807.86</td>\n",
       "      <td>1</td>\n",
       "      <td>0</td>\n",
       "      <td>1</td>\n",
       "      <td>112542.58</td>\n",
       "    </tr>\n",
       "    <tr>\n",
       "      <th>2</th>\n",
       "      <td>502</td>\n",
       "      <td>France</td>\n",
       "      <td>Female</td>\n",
       "      <td>42</td>\n",
       "      <td>8</td>\n",
       "      <td>159660.80</td>\n",
       "      <td>3</td>\n",
       "      <td>1</td>\n",
       "      <td>0</td>\n",
       "      <td>113931.57</td>\n",
       "    </tr>\n",
       "    <tr>\n",
       "      <th>3</th>\n",
       "      <td>699</td>\n",
       "      <td>France</td>\n",
       "      <td>Female</td>\n",
       "      <td>39</td>\n",
       "      <td>1</td>\n",
       "      <td>0.00</td>\n",
       "      <td>2</td>\n",
       "      <td>0</td>\n",
       "      <td>0</td>\n",
       "      <td>93826.63</td>\n",
       "    </tr>\n",
       "    <tr>\n",
       "      <th>4</th>\n",
       "      <td>850</td>\n",
       "      <td>Spain</td>\n",
       "      <td>Female</td>\n",
       "      <td>43</td>\n",
       "      <td>2</td>\n",
       "      <td>125510.82</td>\n",
       "      <td>1</td>\n",
       "      <td>1</td>\n",
       "      <td>1</td>\n",
       "      <td>79084.10</td>\n",
       "    </tr>\n",
       "    <tr>\n",
       "      <th>...</th>\n",
       "      <td>...</td>\n",
       "      <td>...</td>\n",
       "      <td>...</td>\n",
       "      <td>...</td>\n",
       "      <td>...</td>\n",
       "      <td>...</td>\n",
       "      <td>...</td>\n",
       "      <td>...</td>\n",
       "      <td>...</td>\n",
       "      <td>...</td>\n",
       "    </tr>\n",
       "    <tr>\n",
       "      <th>9995</th>\n",
       "      <td>771</td>\n",
       "      <td>France</td>\n",
       "      <td>Male</td>\n",
       "      <td>39</td>\n",
       "      <td>5</td>\n",
       "      <td>0.00</td>\n",
       "      <td>2</td>\n",
       "      <td>1</td>\n",
       "      <td>0</td>\n",
       "      <td>96270.64</td>\n",
       "    </tr>\n",
       "    <tr>\n",
       "      <th>9996</th>\n",
       "      <td>516</td>\n",
       "      <td>France</td>\n",
       "      <td>Male</td>\n",
       "      <td>35</td>\n",
       "      <td>10</td>\n",
       "      <td>57369.61</td>\n",
       "      <td>1</td>\n",
       "      <td>1</td>\n",
       "      <td>1</td>\n",
       "      <td>101699.77</td>\n",
       "    </tr>\n",
       "    <tr>\n",
       "      <th>9997</th>\n",
       "      <td>709</td>\n",
       "      <td>France</td>\n",
       "      <td>Female</td>\n",
       "      <td>36</td>\n",
       "      <td>7</td>\n",
       "      <td>0.00</td>\n",
       "      <td>1</td>\n",
       "      <td>0</td>\n",
       "      <td>1</td>\n",
       "      <td>42085.58</td>\n",
       "    </tr>\n",
       "    <tr>\n",
       "      <th>9998</th>\n",
       "      <td>772</td>\n",
       "      <td>Germany</td>\n",
       "      <td>Male</td>\n",
       "      <td>42</td>\n",
       "      <td>3</td>\n",
       "      <td>75075.31</td>\n",
       "      <td>2</td>\n",
       "      <td>1</td>\n",
       "      <td>0</td>\n",
       "      <td>92888.52</td>\n",
       "    </tr>\n",
       "    <tr>\n",
       "      <th>9999</th>\n",
       "      <td>792</td>\n",
       "      <td>France</td>\n",
       "      <td>Female</td>\n",
       "      <td>28</td>\n",
       "      <td>4</td>\n",
       "      <td>130142.79</td>\n",
       "      <td>1</td>\n",
       "      <td>1</td>\n",
       "      <td>0</td>\n",
       "      <td>38190.78</td>\n",
       "    </tr>\n",
       "  </tbody>\n",
       "</table>\n",
       "<p>10000 rows × 10 columns</p>\n",
       "</div>"
      ],
      "text/plain": [
       "      CreditScore Geography  Gender  Age  Tenure    Balance  NumOfProducts  \\\n",
       "0             619    France  Female   42       2       0.00              1   \n",
       "1             608     Spain  Female   41       1   83807.86              1   \n",
       "2             502    France  Female   42       8  159660.80              3   \n",
       "3             699    France  Female   39       1       0.00              2   \n",
       "4             850     Spain  Female   43       2  125510.82              1   \n",
       "...           ...       ...     ...  ...     ...        ...            ...   \n",
       "9995          771    France    Male   39       5       0.00              2   \n",
       "9996          516    France    Male   35      10   57369.61              1   \n",
       "9997          709    France  Female   36       7       0.00              1   \n",
       "9998          772   Germany    Male   42       3   75075.31              2   \n",
       "9999          792    France  Female   28       4  130142.79              1   \n",
       "\n",
       "      HasCrCard  IsActiveMember  EstimatedSalary  \n",
       "0             1               1        101348.88  \n",
       "1             0               1        112542.58  \n",
       "2             1               0        113931.57  \n",
       "3             0               0         93826.63  \n",
       "4             1               1         79084.10  \n",
       "...         ...             ...              ...  \n",
       "9995          1               0         96270.64  \n",
       "9996          1               1        101699.77  \n",
       "9997          0               1         42085.58  \n",
       "9998          1               0         92888.52  \n",
       "9999          1               0         38190.78  \n",
       "\n",
       "[10000 rows x 10 columns]"
      ]
     },
     "execution_count": 124,
     "metadata": {},
     "output_type": "execute_result"
    }
   ],
   "source": [
    "x2"
   ]
  },
  {
   "cell_type": "code",
   "execution_count": 126,
   "metadata": {
    "ExecuteTime": {
     "end_time": "2022-04-05T18:19:12.548739Z",
     "start_time": "2022-04-05T18:19:12.542755Z"
    }
   },
   "outputs": [],
   "source": [
    "transformer=ColumnTransformer([\n",
    "    ('onehot',ce.OneHotEncoder(drop_invariant=True),['Geography', 'Gender']),\n",
    "    ('scaler',RobustScaler(),['CreditScore','Age','Tenure','Balance','NumOfProducts','EstimatedSalary'])\n",
    "], remainder='passthrough')"
   ]
  },
  {
   "cell_type": "code",
   "execution_count": 127,
   "metadata": {
    "ExecuteTime": {
     "end_time": "2022-04-05T18:19:13.431381Z",
     "start_time": "2022-04-05T18:19:13.355586Z"
    },
    "scrolled": true
   },
   "outputs": [
    {
     "data": {
      "text/plain": [
       "array([[ 1.        ,  0.        ,  0.        , ...,  0.0117391 ,\n",
       "         1.        ,  1.        ],\n",
       "       [ 0.        ,  1.        ,  0.        , ...,  0.12551225,\n",
       "         0.        ,  1.        ],\n",
       "       [ 1.        ,  0.        ,  0.        , ...,  0.13962999,\n",
       "         1.        ,  0.        ],\n",
       "       ...,\n",
       "       [ 1.        ,  0.        ,  0.        , ..., -0.59061507,\n",
       "         0.        ,  1.        ],\n",
       "       [ 0.        ,  0.        ,  1.        , ..., -0.07425228,\n",
       "         1.        ,  0.        ],\n",
       "       [ 1.        ,  0.        ,  0.        , ..., -0.63020194,\n",
       "         1.        ,  0.        ]])"
      ]
     },
     "execution_count": 127,
     "metadata": {},
     "output_type": "execute_result"
    }
   ],
   "source": [
    "x_model=transformer.fit_transform(x2)\n",
    "x_model"
   ]
  },
  {
   "cell_type": "code",
   "execution_count": 128,
   "metadata": {
    "ExecuteTime": {
     "end_time": "2022-04-05T18:19:41.740718Z",
     "start_time": "2022-04-05T18:19:41.723767Z"
    }
   },
   "outputs": [],
   "source": [
    "x_train2, x_test2, y_train2, y_test2= train_test_split(x2,y2, stratify=y2, test_size=0.2, random_state=2020)"
   ]
  },
  {
   "cell_type": "markdown",
   "metadata": {},
   "source": [
    "## Building ANN"
   ]
  },
  {
   "cell_type": "code",
   "execution_count": 149,
   "metadata": {
    "ExecuteTime": {
     "end_time": "2022-04-05T18:37:50.365681Z",
     "start_time": "2022-04-05T18:37:50.353713Z"
    }
   },
   "outputs": [],
   "source": [
    "def build_ann(a,b):\n",
    "    ann2=tf.keras.models.Sequential()\n",
    "    ann2.add(tf.keras.layers.Dense(units=6,activation='relu'))\n",
    "    ann2.add(tf.keras.layers.Dense(units=6,activation='relu'))\n",
    "    ann2.add(tf.keras.layers.Dense(units=1,activation='sigmoid'))\n",
    "    ann2.compile(optimizer='adam', loss='binary_crossentropy',metrics=[tf.keras.metrics.Recall()])\n",
    "    ann2.fit(a,b,epochs=100, batch_size=32)\n",
    "    return ann2"
   ]
  },
  {
   "cell_type": "code",
   "execution_count": 132,
   "metadata": {
    "ExecuteTime": {
     "end_time": "2022-04-05T18:25:08.118136Z",
     "start_time": "2022-04-05T18:25:08.095162Z"
    }
   },
   "outputs": [],
   "source": [
    "#Import KerasClassifier\n",
    "from tensorflow.keras.wrappers.scikit_learn import KerasClassifier"
   ]
  },
  {
   "cell_type": "code",
   "execution_count": 153,
   "metadata": {
    "ExecuteTime": {
     "end_time": "2022-04-05T18:46:20.266902Z",
     "start_time": "2022-04-05T18:46:20.250909Z"
    }
   },
   "outputs": [],
   "source": [
    "# Import Multi Layer Perceptron from Scikit-Learn\n",
    "from sklearn.neural_network import MLPClassifier"
   ]
  },
  {
   "cell_type": "code",
   "execution_count": null,
   "metadata": {},
   "outputs": [],
   "source": [
    "MLPClassifier()"
   ]
  },
  {
   "cell_type": "code",
   "execution_count": 151,
   "metadata": {
    "ExecuteTime": {
     "end_time": "2022-04-05T18:38:09.946526Z",
     "start_time": "2022-04-05T18:38:09.924618Z"
    }
   },
   "outputs": [
    {
     "ename": "TypeError",
     "evalue": "build_ann() missing 2 required positional arguments: 'a' and 'b'",
     "output_type": "error",
     "traceback": [
      "\u001b[1;31m---------------------------------------------------------------------------\u001b[0m",
      "\u001b[1;31mTypeError\u001b[0m                                 Traceback (most recent call last)",
      "\u001b[1;32m<ipython-input-151-82888091a7d7>\u001b[0m in \u001b[0;36m<module>\u001b[1;34m\u001b[0m\n\u001b[0;32m      1\u001b[0m ann_pipe=Pipeline([\n\u001b[0;32m      2\u001b[0m     \u001b[1;33m(\u001b[0m\u001b[1;34m'transformer'\u001b[0m\u001b[1;33m,\u001b[0m\u001b[0mtransformer\u001b[0m\u001b[1;33m)\u001b[0m\u001b[1;33m,\u001b[0m\u001b[1;33m\u001b[0m\u001b[1;33m\u001b[0m\u001b[0m\n\u001b[1;32m----> 3\u001b[1;33m     \u001b[1;33m(\u001b[0m\u001b[1;34m'model'\u001b[0m\u001b[1;33m,\u001b[0m\u001b[0mbuild_ann\u001b[0m\u001b[1;33m(\u001b[0m\u001b[1;33m)\u001b[0m\u001b[1;33m)\u001b[0m\u001b[1;33m\u001b[0m\u001b[1;33m\u001b[0m\u001b[0m\n\u001b[0m\u001b[0;32m      4\u001b[0m ])\n",
      "\u001b[1;31mTypeError\u001b[0m: build_ann() missing 2 required positional arguments: 'a' and 'b'"
     ]
    }
   ],
   "source": [
    "ann_pipe=Pipeline([\n",
    "    ('transformer',transformer),\n",
    "    ('model',build_ann())\n",
    "])"
   ]
  },
  {
   "cell_type": "code",
   "execution_count": 152,
   "metadata": {
    "ExecuteTime": {
     "end_time": "2022-04-05T18:38:15.541524Z",
     "start_time": "2022-04-05T18:38:15.463772Z"
    }
   },
   "outputs": [
    {
     "ename": "ValueError",
     "evalue": "The first argument to `Layer.call` must always be passed.",
     "output_type": "error",
     "traceback": [
      "\u001b[1;31m---------------------------------------------------------------------------\u001b[0m",
      "\u001b[1;31mValueError\u001b[0m                                Traceback (most recent call last)",
      "\u001b[1;32m<ipython-input-152-478c7e60ec16>\u001b[0m in \u001b[0;36m<module>\u001b[1;34m\u001b[0m\n\u001b[1;32m----> 1\u001b[1;33m \u001b[0mann_pipe\u001b[0m\u001b[1;33m.\u001b[0m\u001b[0mfit\u001b[0m\u001b[1;33m(\u001b[0m\u001b[0mx_train2\u001b[0m\u001b[1;33m,\u001b[0m\u001b[0my_train2\u001b[0m\u001b[1;33m)\u001b[0m\u001b[1;33m\u001b[0m\u001b[1;33m\u001b[0m\u001b[0m\n\u001b[0m",
      "\u001b[1;32m~\\anaconda3\\lib\\site-packages\\sklearn\\pipeline.py\u001b[0m in \u001b[0;36mfit\u001b[1;34m(self, X, y, **fit_params)\u001b[0m\n\u001b[0;32m    392\u001b[0m             \u001b[1;32mif\u001b[0m \u001b[0mself\u001b[0m\u001b[1;33m.\u001b[0m\u001b[0m_final_estimator\u001b[0m \u001b[1;33m!=\u001b[0m \u001b[1;34m\"passthrough\"\u001b[0m\u001b[1;33m:\u001b[0m\u001b[1;33m\u001b[0m\u001b[1;33m\u001b[0m\u001b[0m\n\u001b[0;32m    393\u001b[0m                 \u001b[0mfit_params_last_step\u001b[0m \u001b[1;33m=\u001b[0m \u001b[0mfit_params_steps\u001b[0m\u001b[1;33m[\u001b[0m\u001b[0mself\u001b[0m\u001b[1;33m.\u001b[0m\u001b[0msteps\u001b[0m\u001b[1;33m[\u001b[0m\u001b[1;33m-\u001b[0m\u001b[1;36m1\u001b[0m\u001b[1;33m]\u001b[0m\u001b[1;33m[\u001b[0m\u001b[1;36m0\u001b[0m\u001b[1;33m]\u001b[0m\u001b[1;33m]\u001b[0m\u001b[1;33m\u001b[0m\u001b[1;33m\u001b[0m\u001b[0m\n\u001b[1;32m--> 394\u001b[1;33m                 \u001b[0mself\u001b[0m\u001b[1;33m.\u001b[0m\u001b[0m_final_estimator\u001b[0m\u001b[1;33m.\u001b[0m\u001b[0mfit\u001b[0m\u001b[1;33m(\u001b[0m\u001b[0mXt\u001b[0m\u001b[1;33m,\u001b[0m \u001b[0my\u001b[0m\u001b[1;33m,\u001b[0m \u001b[1;33m**\u001b[0m\u001b[0mfit_params_last_step\u001b[0m\u001b[1;33m)\u001b[0m\u001b[1;33m\u001b[0m\u001b[1;33m\u001b[0m\u001b[0m\n\u001b[0m\u001b[0;32m    395\u001b[0m \u001b[1;33m\u001b[0m\u001b[0m\n\u001b[0;32m    396\u001b[0m         \u001b[1;32mreturn\u001b[0m \u001b[0mself\u001b[0m\u001b[1;33m\u001b[0m\u001b[1;33m\u001b[0m\u001b[0m\n",
      "\u001b[1;32m~\\anaconda3\\lib\\site-packages\\keras\\wrappers\\scikit_learn.py\u001b[0m in \u001b[0;36mfit\u001b[1;34m(self, x, y, **kwargs)\u001b[0m\n\u001b[0;32m    234\u001b[0m       \u001b[1;32mraise\u001b[0m \u001b[0mValueError\u001b[0m\u001b[1;33m(\u001b[0m\u001b[1;34m'Invalid shape for y: '\u001b[0m \u001b[1;33m+\u001b[0m \u001b[0mstr\u001b[0m\u001b[1;33m(\u001b[0m\u001b[0my\u001b[0m\u001b[1;33m.\u001b[0m\u001b[0mshape\u001b[0m\u001b[1;33m)\u001b[0m\u001b[1;33m)\u001b[0m\u001b[1;33m\u001b[0m\u001b[1;33m\u001b[0m\u001b[0m\n\u001b[0;32m    235\u001b[0m     \u001b[0mself\u001b[0m\u001b[1;33m.\u001b[0m\u001b[0mn_classes_\u001b[0m \u001b[1;33m=\u001b[0m \u001b[0mlen\u001b[0m\u001b[1;33m(\u001b[0m\u001b[0mself\u001b[0m\u001b[1;33m.\u001b[0m\u001b[0mclasses_\u001b[0m\u001b[1;33m)\u001b[0m\u001b[1;33m\u001b[0m\u001b[1;33m\u001b[0m\u001b[0m\n\u001b[1;32m--> 236\u001b[1;33m     \u001b[1;32mreturn\u001b[0m \u001b[0msuper\u001b[0m\u001b[1;33m(\u001b[0m\u001b[0mKerasClassifier\u001b[0m\u001b[1;33m,\u001b[0m \u001b[0mself\u001b[0m\u001b[1;33m)\u001b[0m\u001b[1;33m.\u001b[0m\u001b[0mfit\u001b[0m\u001b[1;33m(\u001b[0m\u001b[0mx\u001b[0m\u001b[1;33m,\u001b[0m \u001b[0my\u001b[0m\u001b[1;33m,\u001b[0m \u001b[1;33m**\u001b[0m\u001b[0mkwargs\u001b[0m\u001b[1;33m)\u001b[0m\u001b[1;33m\u001b[0m\u001b[1;33m\u001b[0m\u001b[0m\n\u001b[0m\u001b[0;32m    237\u001b[0m \u001b[1;33m\u001b[0m\u001b[0m\n\u001b[0;32m    238\u001b[0m   \u001b[1;32mdef\u001b[0m \u001b[0mpredict\u001b[0m\u001b[1;33m(\u001b[0m\u001b[0mself\u001b[0m\u001b[1;33m,\u001b[0m \u001b[0mx\u001b[0m\u001b[1;33m,\u001b[0m \u001b[1;33m**\u001b[0m\u001b[0mkwargs\u001b[0m\u001b[1;33m)\u001b[0m\u001b[1;33m:\u001b[0m\u001b[1;33m\u001b[0m\u001b[1;33m\u001b[0m\u001b[0m\n",
      "\u001b[1;32m~\\anaconda3\\lib\\site-packages\\keras\\wrappers\\scikit_learn.py\u001b[0m in \u001b[0;36mfit\u001b[1;34m(self, x, y, **kwargs)\u001b[0m\n\u001b[0;32m    150\u001b[0m     elif (not isinstance(self.build_fn, types.FunctionType) and\n\u001b[0;32m    151\u001b[0m           not isinstance(self.build_fn, types.MethodType)):\n\u001b[1;32m--> 152\u001b[1;33m       self.model = self.build_fn(\n\u001b[0m\u001b[0;32m    153\u001b[0m           **self.filter_sk_params(self.build_fn.__call__))\n\u001b[0;32m    154\u001b[0m     \u001b[1;32melse\u001b[0m\u001b[1;33m:\u001b[0m\u001b[1;33m\u001b[0m\u001b[1;33m\u001b[0m\u001b[0m\n",
      "\u001b[1;32m~\\anaconda3\\lib\\site-packages\\keras\\utils\\traceback_utils.py\u001b[0m in \u001b[0;36merror_handler\u001b[1;34m(*args, **kwargs)\u001b[0m\n\u001b[0;32m     65\u001b[0m     \u001b[1;32mexcept\u001b[0m \u001b[0mException\u001b[0m \u001b[1;32mas\u001b[0m \u001b[0me\u001b[0m\u001b[1;33m:\u001b[0m  \u001b[1;31m# pylint: disable=broad-except\u001b[0m\u001b[1;33m\u001b[0m\u001b[1;33m\u001b[0m\u001b[0m\n\u001b[0;32m     66\u001b[0m       \u001b[0mfiltered_tb\u001b[0m \u001b[1;33m=\u001b[0m \u001b[0m_process_traceback_frames\u001b[0m\u001b[1;33m(\u001b[0m\u001b[0me\u001b[0m\u001b[1;33m.\u001b[0m\u001b[0m__traceback__\u001b[0m\u001b[1;33m)\u001b[0m\u001b[1;33m\u001b[0m\u001b[1;33m\u001b[0m\u001b[0m\n\u001b[1;32m---> 67\u001b[1;33m       \u001b[1;32mraise\u001b[0m \u001b[0me\u001b[0m\u001b[1;33m.\u001b[0m\u001b[0mwith_traceback\u001b[0m\u001b[1;33m(\u001b[0m\u001b[0mfiltered_tb\u001b[0m\u001b[1;33m)\u001b[0m \u001b[1;32mfrom\u001b[0m \u001b[1;32mNone\u001b[0m\u001b[1;33m\u001b[0m\u001b[1;33m\u001b[0m\u001b[0m\n\u001b[0m\u001b[0;32m     68\u001b[0m     \u001b[1;32mfinally\u001b[0m\u001b[1;33m:\u001b[0m\u001b[1;33m\u001b[0m\u001b[1;33m\u001b[0m\u001b[0m\n\u001b[0;32m     69\u001b[0m       \u001b[1;32mdel\u001b[0m \u001b[0mfiltered_tb\u001b[0m\u001b[1;33m\u001b[0m\u001b[1;33m\u001b[0m\u001b[0m\n",
      "\u001b[1;32m~\\anaconda3\\lib\\site-packages\\keras\\engine\\base_layer.py\u001b[0m in \u001b[0;36m_split_out_first_arg\u001b[1;34m(self, args, kwargs)\u001b[0m\n\u001b[0;32m   3092\u001b[0m       \u001b[0minputs\u001b[0m \u001b[1;33m=\u001b[0m \u001b[0mkwargs\u001b[0m\u001b[1;33m.\u001b[0m\u001b[0mpop\u001b[0m\u001b[1;33m(\u001b[0m\u001b[0mself\u001b[0m\u001b[1;33m.\u001b[0m\u001b[0m_call_fn_args\u001b[0m\u001b[1;33m[\u001b[0m\u001b[1;36m0\u001b[0m\u001b[1;33m]\u001b[0m\u001b[1;33m)\u001b[0m\u001b[1;33m\u001b[0m\u001b[1;33m\u001b[0m\u001b[0m\n\u001b[0;32m   3093\u001b[0m     \u001b[1;32melse\u001b[0m\u001b[1;33m:\u001b[0m\u001b[1;33m\u001b[0m\u001b[1;33m\u001b[0m\u001b[0m\n\u001b[1;32m-> 3094\u001b[1;33m       raise ValueError(\n\u001b[0m\u001b[0;32m   3095\u001b[0m           'The first argument to `Layer.call` must always be passed.')\n\u001b[0;32m   3096\u001b[0m     \u001b[1;32mreturn\u001b[0m \u001b[0minputs\u001b[0m\u001b[1;33m,\u001b[0m \u001b[0margs\u001b[0m\u001b[1;33m,\u001b[0m \u001b[0mkwargs\u001b[0m\u001b[1;33m\u001b[0m\u001b[1;33m\u001b[0m\u001b[0m\n",
      "\u001b[1;31mValueError\u001b[0m: The first argument to `Layer.call` must always be passed."
     ]
    }
   ],
   "source": [
    "ann_pipe.fit(x_train2,y_train2)"
   ]
  },
  {
   "cell_type": "code",
   "execution_count": 143,
   "metadata": {
    "ExecuteTime": {
     "end_time": "2022-04-05T18:31:01.125625Z",
     "start_time": "2022-04-05T18:31:00.975991Z"
    }
   },
   "outputs": [],
   "source": [
    "y_pred2=(ann_pipe.predict(x_test2)>0.5)"
   ]
  },
  {
   "cell_type": "code",
   "execution_count": 144,
   "metadata": {
    "ExecuteTime": {
     "end_time": "2022-04-05T18:31:02.149889Z",
     "start_time": "2022-04-05T18:31:02.121930Z"
    }
   },
   "outputs": [
    {
     "name": "stdout",
     "output_type": "stream",
     "text": [
      "              precision    recall  f1-score   support\n",
      "\n",
      "           0       0.80      1.00      0.89      1593\n",
      "           1       0.50      0.00      0.00       407\n",
      "\n",
      "    accuracy                           0.80      2000\n",
      "   macro avg       0.65      0.50      0.45      2000\n",
      "weighted avg       0.74      0.80      0.71      2000\n",
      "\n"
     ]
    }
   ],
   "source": [
    "print(classification_report(y_test2,y_pred2))"
   ]
  },
  {
   "cell_type": "code",
   "execution_count": 145,
   "metadata": {
    "ExecuteTime": {
     "end_time": "2022-04-05T18:32:28.119855Z",
     "start_time": "2022-04-05T18:32:28.109849Z"
    }
   },
   "outputs": [
    {
     "data": {
      "text/plain": [
       "array([[1592,    1],\n",
       "       [ 406,    1]], dtype=int64)"
      ]
     },
     "execution_count": 145,
     "metadata": {},
     "output_type": "execute_result"
    }
   ],
   "source": [
    "confusion_matrix(y_test2,y_pred2)"
   ]
  },
  {
   "cell_type": "code",
   "execution_count": null,
   "metadata": {},
   "outputs": [],
   "source": []
  }
 ],
 "metadata": {
  "kernelspec": {
   "display_name": "Python 3",
   "language": "python",
   "name": "python3"
  },
  "language_info": {
   "codemirror_mode": {
    "name": "ipython",
    "version": 3
   },
   "file_extension": ".py",
   "mimetype": "text/x-python",
   "name": "python",
   "nbconvert_exporter": "python",
   "pygments_lexer": "ipython3",
   "version": "3.8.5"
  },
  "latex_envs": {
   "LaTeX_envs_menu_present": true,
   "autoclose": false,
   "autocomplete": true,
   "bibliofile": "biblio.bib",
   "cite_by": "apalike",
   "current_citInitial": 1,
   "eqLabelWithNumbers": true,
   "eqNumInitial": 1,
   "hotkeys": {
    "equation": "Ctrl-E",
    "itemize": "Ctrl-I"
   },
   "labels_anchors": false,
   "latex_user_defs": false,
   "report_style_numbering": false,
   "user_envs_cfg": false
  },
  "toc": {
   "base_numbering": 1,
   "nav_menu": {},
   "number_sections": true,
   "sideBar": true,
   "skip_h1_title": false,
   "title_cell": "Table of Contents",
   "title_sidebar": "Contents",
   "toc_cell": false,
   "toc_position": {
    "height": "calc(100% - 180px)",
    "left": "10px",
    "top": "150px",
    "width": "384px"
   },
   "toc_section_display": true,
   "toc_window_display": true
  },
  "varInspector": {
   "cols": {
    "lenName": 16,
    "lenType": 16,
    "lenVar": 40
   },
   "kernels_config": {
    "python": {
     "delete_cmd_postfix": "",
     "delete_cmd_prefix": "del ",
     "library": "var_list.py",
     "varRefreshCmd": "print(var_dic_list())"
    },
    "r": {
     "delete_cmd_postfix": ") ",
     "delete_cmd_prefix": "rm(",
     "library": "var_list.r",
     "varRefreshCmd": "cat(var_dic_list()) "
    }
   },
   "types_to_exclude": [
    "module",
    "function",
    "builtin_function_or_method",
    "instance",
    "_Feature"
   ],
   "window_display": false
  }
 },
 "nbformat": 4,
 "nbformat_minor": 4
}
